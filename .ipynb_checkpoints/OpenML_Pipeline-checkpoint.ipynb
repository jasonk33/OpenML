{
 "cells": [
  {
   "cell_type": "code",
   "execution_count": 1,
   "metadata": {
    "collapsed": true
   },
   "outputs": [],
   "source": [
    "import pandas as pd\n",
    "import numpy as np\n",
    "import matplotlib.pyplot as plt\n",
    "from sklearn.preprocessing import OneHotEncoder, LabelEncoder, Imputer\n",
    "from sklearn.pipeline import Pipeline\n",
    "from sklearn.decomposition import PCA\n",
    "from sklearn.ensemble.forest import RandomForestClassifier\n",
    "from sklearn.model_selection._search import RandomizedSearchCV\n",
    "from sklearn.feature_selection.variance_threshold import VarianceThreshold\n",
    "from sklearn.ensemble.weight_boosting import AdaBoostClassifier\n",
    "from sklearn.tree.tree import DecisionTreeClassifier\n",
    "from sklearn.naive_bayes import GaussianNB\n",
    "from sklearn.linear_model import LogisticRegression\n",
    "from sklearn.ensemble import GradientBoostingClassifier, ExtraTreesClassifier\n",
    "%matplotlib inline  \n",
    "%load_ext autotime"
   ]
  },
  {
   "cell_type": "code",
   "execution_count": 7,
   "metadata": {},
   "outputs": [
    {
     "name": "stdout",
     "output_type": "stream",
     "text": [
      "time: 18 ms\n"
     ]
    }
   ],
   "source": [
    "def report(results, n_top=3):\n",
    "    for i in range(1, n_top + 1):\n",
    "        candidates = np.flatnonzero(results['rank_test_score'] == i)\n",
    "        for candidate in candidates:\n",
    "            print(\"Model with rank: {0}\".format(i))\n",
    "            print(\"Mean validation score: {0:.3f} (std: {1:.3f})\".format(\n",
    "                  results['mean_test_score'][candidate],\n",
    "                  results['std_test_score'][candidate]))\n",
    "            print(\"Parameters: {0}\".format(results['params'][candidate]))\n",
    "            print(\"\")\n"
   ]
  },
  {
   "cell_type": "code",
   "execution_count": 8,
   "metadata": {},
   "outputs": [
    {
     "name": "stdout",
     "output_type": "stream",
     "text": [
      "time: 28.3 ms\n"
     ]
    }
   ],
   "source": [
    "# Load data and identify target column\n",
    "df_australian = pd.read_csv(\"phpelnJ6y.csv\")\n",
    "target_column = 'A15'"
   ]
  },
  {
   "cell_type": "code",
   "execution_count": 9,
   "metadata": {},
   "outputs": [
    {
     "name": "stdout",
     "output_type": "stream",
     "text": [
      "time: 114 ms\n"
     ]
    }
   ],
   "source": [
    "# Consider a variable as nominal if there are less than 20 uniquie values (cutoff open to change)\n",
    "nominal_vars = [name for name,value in df_australian.iteritems() if len(set(value)) < 20 and name != target_column]\n",
    "\n",
    "# Get all object variables (categorical)\n",
    "object_vars = [column[0] for column in df_australian.dtypes.iteritems() if column[1] == object and \n",
    "               column[0] != target_column]\n",
    "\n",
    "# Get set of variables to encode to categorical\n",
    "nominal_vars.extend(object_vars)\n",
    "factors = set(nominal_vars)\n",
    "\n",
    "# One hot encode each categorical variable as 0 or 1\n",
    "df_australian = pd.get_dummies(df_australian, columns=factors)"
   ]
  },
  {
   "cell_type": "code",
   "execution_count": 10,
   "metadata": {},
   "outputs": [
    {
     "name": "stdout",
     "output_type": "stream",
     "text": [
      "time: 33.9 ms\n"
     ]
    }
   ],
   "source": [
    "# Initialize predictor variables\n",
    "first_col = df_australian.columns[0]\n",
    "X = np.array(df_australian[first_col])[:, np.newaxis]\n",
    "\n",
    "# Get predictor variables into proper format\n",
    "for variable in df_australian[df_australian.columns.difference([target_column, first_col])]:\n",
    "    X = np.hstack((X, np.array(df_australian[variable])[:, np.newaxis]))\n",
    "    \n",
    "# Get target variable into proper format\n",
    "le = LabelEncoder()\n",
    "y = le.fit_transform(df_australian[target_column])"
   ]
  },
  {
   "cell_type": "code",
   "execution_count": 19,
   "metadata": {},
   "outputs": [
    {
     "data": {
      "text/plain": [
       "dict_keys(['steps', 'imputer', 'reduce_dim', 'clf', 'imputer__axis', 'imputer__copy', 'imputer__missing_values', 'imputer__strategy', 'imputer__verbose', 'reduce_dim__copy', 'reduce_dim__iterated_power', 'reduce_dim__n_components', 'reduce_dim__random_state', 'reduce_dim__svd_solver', 'reduce_dim__tol', 'reduce_dim__whiten', 'clf__algorithm', 'clf__base_estimator', 'clf__learning_rate', 'clf__n_estimators', 'clf__random_state'])"
      ]
     },
     "execution_count": 19,
     "metadata": {},
     "output_type": "execute_result"
    },
    {
     "name": "stdout",
     "output_type": "stream",
     "text": [
      "time: 12 ms\n"
     ]
    }
   ],
   "source": [
    "# Initialize pipeline steps\n",
    "estimators = [('imputer', Imputer()), ('reduce_dim', PCA()), ('clf', AdaBoostClassifier())]\n",
    "\n",
    "# Create pipeline\n",
    "pipe = Pipeline(estimators)\n",
    "\n",
    "# Pipeline parameters\n",
    "pipe.get_params().keys()"
   ]
  },
  {
   "cell_type": "code",
   "execution_count": 13,
   "metadata": {},
   "outputs": [
    {
     "name": "stdout",
     "output_type": "stream",
     "text": [
      "time: 6.96 ms\n"
     ]
    }
   ],
   "source": [
    "# Number of predictor variables\n",
    "num_feat = len(X[1])\n",
    "\n",
    "# Parameters to search over\n",
    "param_dist = {'clf__base_estimator': [DecisionTreeClassifier(), RandomForestClassifier(), \n",
    "                                      GradientBoostingClassifier(), ExtraTreesClassifier()],\n",
    "             'clf__learning_rate': [.0001, .001, .01],\n",
    "             'clf__n_estimators': [10, 50, 100, 250, 500], \n",
    "             'reduce_dim__n_components': np.arange(2,num_feat,int(num_feat/4))} # If 4 or more features"
   ]
  },
  {
   "cell_type": "code",
   "execution_count": 18,
   "metadata": {},
   "outputs": [
    {
     "name": "stdout",
     "output_type": "stream",
     "text": [
      "Model with rank: 1\n",
      "Mean validation score: 0.814 (std: 0.027)\n",
      "Parameters: {'reduce_dim__n_components': 12, 'clf__n_estimators': 500, 'clf__learning_rate': 0.0001, 'clf__base_estimator': ExtraTreesClassifier(bootstrap=False, class_weight=None, criterion='gini',\n",
      "           max_depth=None, max_features='auto', max_leaf_nodes=None,\n",
      "           min_impurity_split=1e-07, min_samples_leaf=1,\n",
      "           min_samples_split=2, min_weight_fraction_leaf=0.0,\n",
      "           n_estimators=10, n_jobs=1, oob_score=False, random_state=None,\n",
      "           verbose=0, warm_start=False)}\n",
      "\n",
      "Model with rank: 2\n",
      "Mean validation score: 0.633 (std: 0.024)\n",
      "Parameters: {'reduce_dim__n_components': 2, 'clf__n_estimators': 10, 'clf__learning_rate': 0.01, 'clf__base_estimator': RandomForestClassifier(bootstrap=True, class_weight=None, criterion='gini',\n",
      "            max_depth=None, max_features='auto', max_leaf_nodes=None,\n",
      "            min_impurity_split=1e-07, min_samples_leaf=1,\n",
      "            min_samples_split=2, min_weight_fraction_leaf=0.0,\n",
      "            n_estimators=10, n_jobs=1, oob_score=False, random_state=None,\n",
      "            verbose=0, warm_start=False)}\n",
      "\n",
      "Model with rank: 3\n",
      "Mean validation score: 0.577 (std: 0.027)\n",
      "Parameters: {'reduce_dim__n_components': 2, 'clf__n_estimators': 100, 'clf__learning_rate': 0.01, 'clf__base_estimator': DecisionTreeClassifier(class_weight=None, criterion='gini', max_depth=None,\n",
      "            max_features=None, max_leaf_nodes=None,\n",
      "            min_impurity_split=1e-07, min_samples_leaf=1,\n",
      "            min_samples_split=2, min_weight_fraction_leaf=0.0,\n",
      "            presort=False, random_state=None, splitter='best')}\n",
      "\n",
      "time: 2.56 s\n"
     ]
    }
   ],
   "source": [
    "# Initialize random search to pipeline and parameters\n",
    "n_iter = 10\n",
    "ran_search = RandomizedSearchCV(estimator=pipe, param_distributions=param_dist, n_iter=n_iter)\n",
    "\n",
    "# Fit random search to data\n",
    "ran_search.fit(X,y)\n",
    "\n",
    "# See results of search\n",
    "report(ran_search.cv_results_, n_top=5)"
   ]
  },
  {
   "cell_type": "code",
   "execution_count": null,
   "metadata": {
    "collapsed": true
   },
   "outputs": [],
   "source": []
  },
  {
   "cell_type": "code",
   "execution_count": 11,
   "metadata": {},
   "outputs": [
    {
     "name": "stdout",
     "output_type": "stream",
     "text": [
      "time: 1.16 ms\n"
     ]
    }
   ],
   "source": [
    "# distribution of which ones have pipelines"
   ]
  },
  {
   "cell_type": "code",
   "execution_count": null,
   "metadata": {
    "collapsed": true
   },
   "outputs": [],
   "source": [
    "flows = pd.read_csv(\"Results/OpenML Supervised Classification on blood-transfusion-service-center.csv\")\n",
    "ff = flows.groupby('Flow')[\"Flow\"].count()\n",
    "ff"
   ]
  },
  {
   "cell_type": "code",
   "execution_count": 4,
   "metadata": {
    "scrolled": true
   },
   "outputs": [
    {
     "name": "stdout",
     "output_type": "stream",
     "text": [
      "time: 1.88 ms\n"
     ]
    }
   ],
   "source": [
    "flows = pd.read_csv(\"results/OpenML Supervised Classification on credit-g.csv\")\n",
    "ff = flows.groupby('Flow')[\"Flow\"].count()\n",
    "ff"
   ]
  },
  {
   "cell_type": "code",
   "execution_count": 2,
   "metadata": {},
   "outputs": [
    {
     "name": "stdout",
     "output_type": "stream",
     "text": [
      "time: 294 ms\n"
     ]
    }
   ],
   "source": [
    "flows = pd.read_csv(\"results/OpenML Supervised Classification on Australian.csv\")\n",
    "ff = flows.groupby('Flow')[\"Flow\"].count()\n",
    "ff"
   ]
  }
 ],
 "metadata": {
  "kernelspec": {
   "display_name": "Python 3",
   "language": "python",
   "name": "python3"
  },
  "language_info": {
   "codemirror_mode": {
    "name": "ipython",
    "version": 3
   },
   "file_extension": ".py",
   "mimetype": "text/x-python",
   "name": "python",
   "nbconvert_exporter": "python",
   "pygments_lexer": "ipython3",
   "version": "3.6.0"
  }
 },
 "nbformat": 4,
 "nbformat_minor": 2
}
