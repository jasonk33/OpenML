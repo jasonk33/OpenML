{
 "cells": [
  {
   "cell_type": "code",
   "execution_count": 1,
   "metadata": {
    "collapsed": true
   },
   "outputs": [],
   "source": [
    "from requests import get\n",
    "import numpy as np\n",
    "import pandas as pd\n",
    "import json\n",
    "from pprint import pprint\n",
    "%load_ext autotime"
   ]
  },
  {
   "cell_type": "code",
   "execution_count": 101,
   "metadata": {},
   "outputs": [
    {
     "name": "stdout",
     "output_type": "stream",
     "text": [
      "time: 1.23 ms\n"
     ]
    }
   ],
   "source": [
    "api_key = \"1dbab546719d8085308a5bfde18381d7\""
   ]
  },
  {
   "cell_type": "code",
   "execution_count": 40,
   "metadata": {
    "collapsed": true
   },
   "outputs": [],
   "source": [
    "all_tasks = get(\"https://www.openml.org/api/v1/json/task/list?api_key=\" + api_key).json()\n",
    "supervised_classification_task_ids = []\n",
    "for task in all_tasks['tasks']['task']:\n",
    "    if task['task_type'] == 'Supervised Classification':\n",
    "        supervised_classification_task_ids.append(task['task_id'])"
   ]
  },
  {
   "cell_type": "code",
   "execution_count": 141,
   "metadata": {
    "collapsed": true
   },
   "outputs": [
    {
     "name": "stdout",
     "output_type": "stream",
     "text": [
      "0.9208103130755065% complete\n",
      "1.841620626151013% complete\n",
      "2.7624309392265194% complete\n",
      "3.683241252302026% complete\n",
      "4.6040515653775325% complete\n",
      "5.524861878453039% complete\n",
      "6.445672191528545% complete\n",
      "7.366482504604052% complete\n",
      "8.287292817679557% complete\n",
      "9.208103130755065% complete\n",
      "10.128913443830571% complete\n",
      "11.049723756906078% complete\n",
      "11.970534069981584% complete\n",
      "12.89134438305709% complete\n",
      "13.812154696132598% complete\n",
      "14.732965009208105% complete\n",
      "15.65377532228361% complete\n",
      "16.574585635359114% complete\n",
      "17.495395948434624% complete\n",
      "18.41620626151013% complete\n",
      "19.337016574585636% complete\n",
      "20.257826887661142% complete\n",
      "21.178637200736645% complete\n",
      "22.099447513812155% complete\n",
      "23.02025782688766% complete\n",
      "23.941068139963168% complete\n",
      "24.861878453038674% complete\n",
      "25.78268876611418% complete\n",
      "26.703499079189687% complete\n",
      "27.624309392265197% complete\n",
      "28.5451197053407% complete\n",
      "29.46593001841621% complete\n",
      "30.386740331491712% complete\n",
      "31.30755064456722% complete\n",
      "32.22836095764273% complete\n",
      "33.14917127071823% complete\n",
      "34.06998158379374% complete\n",
      "34.99079189686925% complete\n",
      "35.91160220994475% complete\n",
      "36.83241252302026% complete\n",
      "37.75322283609576% complete\n",
      "38.67403314917127% complete\n",
      "39.59484346224678% complete\n",
      "40.515653775322285% complete\n",
      "41.43646408839779% complete\n",
      "42.35727440147329% complete\n",
      "43.278084714548804% complete\n",
      "44.19889502762431% complete\n",
      "45.11970534069982% complete\n",
      "46.04051565377532% complete\n",
      "46.96132596685083% complete\n",
      "47.882136279926335% complete\n",
      "48.80294659300184% complete\n",
      "49.72375690607735% complete\n",
      "50.64456721915286% complete\n",
      "51.56537753222836% complete\n",
      "52.48618784530387% complete\n",
      "53.40699815837937% complete\n",
      "54.32780847145487% complete\n",
      "55.24861878453039% complete\n",
      "56.16942909760589% complete\n",
      "57.0902394106814% complete\n",
      "58.011049723756905% complete\n",
      "58.93186003683242% complete\n",
      "59.852670349907925% complete\n",
      "60.773480662983424% complete\n",
      "61.69429097605893% complete\n",
      "62.61510128913444% complete\n",
      "63.53591160220995% complete\n",
      "64.45672191528546% complete\n",
      "65.37753222836096% complete\n",
      "66.29834254143645% complete\n",
      "67.21915285451196% complete\n",
      "68.13996316758748% complete\n",
      "69.06077348066299% complete\n",
      "69.9815837937385% complete\n",
      "70.90239410681399% complete\n",
      "71.8232044198895% complete\n",
      "72.74401473296501% complete\n",
      "73.66482504604052% complete\n",
      "74.58563535911603% complete\n",
      "75.50644567219152% complete\n",
      "76.42725598526704% complete\n",
      "77.34806629834254% complete\n",
      "78.26887661141805% complete\n",
      "79.18968692449356% complete\n",
      "80.11049723756905% complete\n",
      "81.03130755064457% complete\n",
      "81.95211786372008% complete\n",
      "82.87292817679558% complete\n",
      "83.79373848987109% complete\n",
      "84.71454880294658% complete\n",
      "85.6353591160221% complete\n",
      "86.55616942909761% complete\n",
      "87.47697974217311% complete\n",
      "88.39779005524862% complete\n",
      "89.31860036832413% complete\n",
      "90.23941068139963% complete\n",
      "91.16022099447514% complete\n",
      "92.08103130755065% complete\n",
      "93.00184162062615% complete\n",
      "93.92265193370166% complete\n",
      "94.84346224677716% complete\n",
      "95.76427255985267% complete\n",
      "96.68508287292818% complete\n",
      "97.60589318600368% complete\n",
      "98.52670349907919% complete\n",
      "99.4475138121547% complete\n",
      "time: 21min 20s\n"
     ]
    }
   ],
   "source": [
    "num_tasks = len(all_task_ids)\n",
    "counter = 0\n",
    "supervised_classification_flow_ids = []\n",
    "for task_id in supervised_classification_task_ids:\n",
    "    counter += 1\n",
    "    if counter % 25 == 0:\n",
    "        print(\"{}% complete\".format(round(counter/num_tasks,3)*100))\n",
    "    try:\n",
    "        runs = get(\"https://www.openml.org/api/v1/json/run/list/task/\" + str(task_id) + \"/limit/10000?api_key=\" + api_key)\n",
    "        runs = runs.json()\n",
    "    except:\n",
    "        runs = json.loads(runs.text.replace('\\n', ''))\n",
    "    if 'error' not in runs:\n",
    "        for run in runs['runs']['run']:\n",
    "            supervised_classification_flow_ids.append(run['flow_id'])\n",
    "        supervised_classification_flow_ids = list(set(supervised_classification_flow_ids))"
   ]
  },
  {
   "cell_type": "code",
   "execution_count": 188,
   "metadata": {
    "collapsed": true
   },
   "outputs": [
    {
     "name": "stdout",
     "output_type": "stream",
     "text": [
      "0.8641548565502939% complete\n",
      "1.7283097131005878% complete\n",
      "2.5924645696508817% complete\n",
      "3.4566194262011756% complete\n",
      "4.320774282751469% complete\n",
      "5.184929139301763% complete\n",
      "6.049083995852056% complete\n",
      "6.913238852402351% complete\n",
      "7.777393708952644% complete\n",
      "8.641548565502937% complete\n",
      "9.505703422053232% complete\n",
      "10.369858278603527% complete\n",
      "11.23401313515382% complete\n",
      "12.098167991704113% complete\n",
      "12.962322848254408% complete\n",
      "13.826477704804702% complete\n",
      "14.690632561354994% complete\n",
      "15.554787417905288% complete\n",
      "16.418942274455585% complete\n",
      "17.283097131005874% complete\n",
      "18.14725198755617% complete\n",
      "19.011406844106464% complete\n",
      "19.875561700656757% complete\n",
      "20.739716557207053% complete\n",
      "21.603871413757343% complete\n",
      "22.46802627030764% complete\n",
      "23.332181126857936% complete\n",
      "24.196335983408225% complete\n",
      "25.060490839958522% complete\n",
      "25.924645696508815% complete\n",
      "26.788800553059104% complete\n",
      "27.652955409609405% complete\n",
      "28.517110266159694% complete\n",
      "29.381265122709987% complete\n",
      "30.245419979260284% complete\n",
      "31.109574835810577% complete\n",
      "31.97372969236087% complete\n",
      "32.83788454891117% complete\n",
      "33.70203940546146% complete\n",
      "34.56619426201175% complete\n",
      "35.43034911856205% complete\n",
      "36.29450397511234% complete\n",
      "37.158658831662635% complete\n",
      "38.02281368821293% complete\n",
      "38.88696854476322% complete\n",
      "39.751123401313514% complete\n",
      "40.61527825786381% complete\n",
      "41.47943311441411% complete\n",
      "42.3435879709644% complete\n",
      "43.207742827514686% complete\n",
      "44.071897684064986% complete\n",
      "44.93605254061528% complete\n",
      "45.80020739716557% complete\n",
      "46.66436225371587% complete\n",
      "47.52851711026616% complete\n",
      "48.39267196681645% complete\n",
      "49.256826823366744% complete\n",
      "50.120981679917044% complete\n",
      "50.98513653646734% complete\n",
      "51.84929139301763% complete\n",
      "52.713446249567916% complete\n",
      "53.57760110611821% complete\n",
      "54.441755962668516% complete\n",
      "55.30591081921881% complete\n",
      "56.170065675769095% complete\n",
      "57.03422053231939% complete\n",
      "57.89837538886968% complete\n",
      "58.762530245419974% complete\n",
      "59.62668510197028% complete\n",
      "60.49083995852057% complete\n",
      "61.35499481507086% complete\n",
      "62.21914967162115% complete\n",
      "63.083304528171446% complete\n",
      "63.94745938472174% complete\n",
      "64.81161424127203% complete\n",
      "65.67576909782234% complete\n",
      "66.53992395437263% complete\n",
      "67.40407881092293% complete\n",
      "68.26823366747321% complete\n",
      "69.1323885240235% complete\n",
      "69.9965433805738% complete\n",
      "70.8606982371241% complete\n",
      "71.72485309367438% complete\n",
      "72.58900795022468% complete\n",
      "73.45316280677497% complete\n",
      "74.31731766332527% complete\n",
      "75.18147251987556% complete\n",
      "76.04562737642586% complete\n",
      "76.90978223297616% complete\n",
      "77.77393708952644% complete\n",
      "78.63809194607674% complete\n",
      "79.50224680262703% complete\n",
      "80.36640165917733% complete\n",
      "81.23055651572761% complete\n",
      "82.09471137227791% complete\n",
      "82.95886622882821% complete\n",
      "83.8230210853785% complete\n",
      "84.6871759419288% complete\n",
      "85.55133079847909% complete\n",
      "86.41548565502937% complete\n",
      "87.27964051157967% complete\n",
      "88.14379536812997% complete\n",
      "89.00795022468027% complete\n",
      "89.87210508123056% complete\n",
      "90.73625993778084% complete\n",
      "91.60041479433114% complete\n",
      "92.46456965088143% complete\n",
      "93.32872450743174% complete\n",
      "94.19287936398203% complete\n",
      "95.05703422053232% complete\n",
      "95.92118907708262% complete\n",
      "96.7853439336329% complete\n",
      "97.6494987901832% complete\n",
      "98.51365364673349% complete\n",
      "99.37780850328379% complete\n",
      "time: 23min 43s\n"
     ]
    }
   ],
   "source": [
    "num_flows = len(supervised_classification_flow_ids[1:])\n",
    "counter = 0\n",
    "supervised_classification_flow_descriptions = []\n",
    "for flow in supervised_classification_flow_ids[1:]:\n",
    "    counter += 1\n",
    "    if counter % 25 == 0:\n",
    "        print(\"{}% complete\".format(round(counter/num_flows,3)*100))\n",
    "    flow_description = get(\"https://www.openml.org/api/v1/json/flow/\" + str(flow) + \"?api_key=\" + api_key).json()\n",
    "    if 'error' not in flow_description:\n",
    "        supervised_classification_flow_descriptions.append(flow_description)"
   ]
  },
  {
   "cell_type": "code",
   "execution_count": 45,
   "metadata": {},
   "outputs": [
    {
     "name": "stdout",
     "output_type": "stream",
     "text": [
      "time: 6.08 ms\n"
     ]
    }
   ],
   "source": [
    "sklearn_flows = []\n",
    "for flow in supervised_classification_flow_descriptions:\n",
    "    if flow['flow']['name'][0:7] == 'sklearn':\n",
    "        sklearn_flows.append(flow['flow']['id'])"
   ]
  },
  {
   "cell_type": "code",
   "execution_count": 72,
   "metadata": {
    "collapsed": true
   },
   "outputs": [
    {
     "name": "stdout",
     "output_type": "stream",
     "text": [
      "1.858736059479554% complete\n",
      "3.717472118959108% complete\n",
      "5.5762081784386615% complete\n",
      "7.434944237918216% complete\n",
      "9.293680297397769% complete\n",
      "11.152416356877323% complete\n",
      "13.011152416356877% complete\n",
      "14.869888475836431% complete\n",
      "16.728624535315987% complete\n",
      "18.587360594795538% complete\n",
      "20.44609665427509% complete\n",
      "22.304832713754646% complete\n",
      "24.1635687732342% complete\n",
      "26.022304832713754% complete\n",
      "27.881040892193308% complete\n",
      "29.739776951672862% complete\n",
      "31.59851301115242% complete\n",
      "33.457249070631974% complete\n",
      "35.31598513011153% complete\n",
      "37.174721189591075% complete\n",
      "39.03345724907063% complete\n",
      "40.89219330855018% complete\n",
      "42.75092936802974% complete\n",
      "44.60966542750929% complete\n",
      "46.468401486988846% complete\n",
      "48.3271375464684% complete\n",
      "50.18587360594795% complete\n",
      "52.04460966542751% complete\n",
      "53.90334572490706% complete\n",
      "55.762081784386616% complete\n",
      "57.62081784386617% complete\n",
      "59.479553903345725% complete\n",
      "61.33828996282528% complete\n",
      "63.19702602230484% complete\n",
      "65.05576208178438% complete\n",
      "66.91449814126395% complete\n",
      "68.77323420074349% complete\n",
      "70.63197026022306% complete\n",
      "72.4907063197026% complete\n",
      "74.34944237918215% complete\n",
      "76.2081784386617% complete\n",
      "78.06691449814126% complete\n",
      "79.92565055762083% complete\n",
      "81.78438661710037% complete\n",
      "83.64312267657994% complete\n",
      "85.50185873605948% complete\n",
      "87.36059479553904% complete\n",
      "89.21933085501858% complete\n",
      "91.07806691449815% complete\n",
      "92.93680297397769% complete\n",
      "94.79553903345726% complete\n",
      "96.6542750929368% complete\n",
      "98.51301115241635% complete\n",
      "time: 4min 27s\n"
     ]
    }
   ],
   "source": [
    "num_flows = len(sklearn_flows)\n",
    "counter = 0\n",
    "sklearn_flow_descriptions = {}\n",
    "sklearn_run_descriptions = {}\n",
    "for flow in sklearn_flows:\n",
    "    counter += 1\n",
    "    if counter % 5 == 0:\n",
    "        print(\"{}% complete\".format(round(counter/num_flows,3)*100))\n",
    "    run_descriptions = get(\"https://www.openml.org/api/v1/json/run/list/flow/\" + flow + \"?api_key=\" + api_key).json()\n",
    "    flow_description = get(\"https://www.openml.org/api/v1/json/flow/\" + flow + \"?api_key=\" + api_key).json()\n",
    "    if ('error' not in run_descriptions) and ('error' not in flow_description):\n",
    "        sklearn_run_descriptions[flow] = run_descriptions\n",
    "        sklearn_flow_descriptions[flow] = flow_description"
   ]
  },
  {
   "cell_type": "code",
   "execution_count": null,
   "metadata": {
    "collapsed": true
   },
   "outputs": [],
   "source": [
    "with open('sklearn_flow_descriptions.json', 'w') as outfile:\n",
    "    json.dump(sklearn_flow_descriptions, outfile)\n",
    "with open('sklearn_run_descriptions.json', 'w') as outfile:\n",
    "    json.dump(sklearn_run_descriptions, outfile)"
   ]
  },
  {
   "cell_type": "code",
   "execution_count": 78,
   "metadata": {},
   "outputs": [
    {
     "name": "stdout",
     "output_type": "stream",
     "text": [
      "time: 58.8 ms\n"
     ]
    }
   ],
   "source": [
    "sklearn_task_ids = []\n",
    "sklearn_setup_ids = []\n",
    "for flow,runs in sklearn_run_descriptions.items():\n",
    "    for run in runs['runs']['run']:\n",
    "        sklearn_task_ids.append(run['task_id'])\n",
    "        sklearn_setup_ids.append(run['setup_id'])\n",
    "sklearn_task_ids = list(set(sklearn_task_ids))\n",
    "sklearn_setup_ids = list(set(sklearn_setup_ids))"
   ]
  },
  {
   "cell_type": "code",
   "execution_count": 84,
   "metadata": {
    "collapsed": true
   },
   "outputs": [
    {
     "name": "stdout",
     "output_type": "stream",
     "text": [
      "1.4204545454545454% complete\n",
      "2.840909090909091% complete\n",
      "4.261363636363636% complete\n",
      "5.681818181818182% complete\n",
      "7.1022727272727275% complete\n",
      "8.522727272727272% complete\n",
      "9.943181818181818% complete\n",
      "11.363636363636363% complete\n",
      "12.784090909090908% complete\n",
      "14.204545454545455% complete\n",
      "15.625% complete\n",
      "17.045454545454543% complete\n",
      "18.46590909090909% complete\n",
      "19.886363636363637% complete\n",
      "21.306818181818183% complete\n",
      "22.727272727272727% complete\n",
      "24.147727272727273% complete\n",
      "25.568181818181817% complete\n",
      "26.988636363636363% complete\n",
      "28.40909090909091% complete\n",
      "29.829545454545453% complete\n",
      "31.25% complete\n",
      "32.67045454545455% complete\n",
      "34.090909090909086% complete\n",
      "35.51136363636363% complete\n",
      "36.93181818181818% complete\n",
      "38.35227272727273% complete\n",
      "39.77272727272727% complete\n",
      "41.19318181818182% complete\n",
      "42.61363636363637% complete\n",
      "44.034090909090914% complete\n",
      "45.45454545454545% complete\n",
      "46.875% complete\n",
      "48.29545454545455% complete\n",
      "49.715909090909086% complete\n",
      "51.13636363636363% complete\n",
      "52.55681818181818% complete\n",
      "53.97727272727273% complete\n",
      "55.39772727272727% complete\n",
      "56.81818181818182% complete\n",
      "58.23863636363637% complete\n",
      "59.65909090909091% complete\n",
      "61.07954545454546% complete\n",
      "62.5% complete\n",
      "63.92045454545454% complete\n",
      "65.3409090909091% complete\n",
      "66.76136363636364% complete\n",
      "68.18181818181817% complete\n",
      "69.60227272727273% complete\n",
      "71.02272727272727% complete\n",
      "72.44318181818183% complete\n",
      "73.86363636363636% complete\n",
      "75.2840909090909% complete\n",
      "76.70454545454545% complete\n",
      "78.125% complete\n",
      "79.54545454545455% complete\n",
      "80.9659090909091% complete\n",
      "82.38636363636364% complete\n",
      "83.80681818181817% complete\n",
      "85.22727272727273% complete\n",
      "86.64772727272727% complete\n",
      "88.06818181818183% complete\n",
      "89.48863636363636% complete\n",
      "90.9090909090909% complete\n",
      "92.32954545454545% complete\n",
      "93.75% complete\n",
      "95.17045454545455% complete\n",
      "96.5909090909091% complete\n",
      "98.01136363636364% complete\n",
      "99.43181818181817% complete\n",
      "time: 5min 42s\n"
     ]
    }
   ],
   "source": [
    "num_tasks = len(sklearn_task_ids)\n",
    "counter = 0\n",
    "sklearn_task_descriptions = {}\n",
    "for task_id in sklearn_task_ids:\n",
    "    counter += 1\n",
    "    if counter % 10 == 0:\n",
    "        print(\"{}% complete\".format(round(counter/num_tasks,3)*100))\n",
    "    task_description = get(\"https://www.openml.org/api/v1/json/task/\" + str(task_id) + \"?api_key=\" + api_key).json()\n",
    "    sklearn_task_descriptions[task_id] = task_description"
   ]
  },
  {
   "cell_type": "code",
   "execution_count": null,
   "metadata": {
    "collapsed": true
   },
   "outputs": [],
   "source": [
    "with open('sklearn_task_descriptions.json', 'w') as outfile:\n",
    "    json.dump(sklearn_task_descriptions, outfile)"
   ]
  },
  {
   "cell_type": "code",
   "execution_count": 102,
   "metadata": {},
   "outputs": [
    {
     "name": "stdout",
     "output_type": "stream",
     "text": [
      "0.8% complete\n"
     ]
    },
    {
     "ename": "KeyboardInterrupt",
     "evalue": "",
     "output_type": "error",
     "traceback": [
      "\u001b[0;31m---------------------------------------------------------------------------\u001b[0m",
      "\u001b[0;31mTypeError\u001b[0m                                 Traceback (most recent call last)",
      "\u001b[0;32m/Users/JasonKatz/anaconda/lib/python3.6/site-packages/requests/packages/urllib3/connectionpool.py\u001b[0m in \u001b[0;36m_make_request\u001b[0;34m(self, conn, method, url, timeout, chunked, **httplib_request_kw)\u001b[0m\n\u001b[1;32m    383\u001b[0m             \u001b[0;32mtry\u001b[0m\u001b[0;34m:\u001b[0m  \u001b[0;31m# Python 2.7, use buffering of HTTP responses\u001b[0m\u001b[0;34m\u001b[0m\u001b[0m\n\u001b[0;32m--> 384\u001b[0;31m                 \u001b[0mhttplib_response\u001b[0m \u001b[0;34m=\u001b[0m \u001b[0mconn\u001b[0m\u001b[0;34m.\u001b[0m\u001b[0mgetresponse\u001b[0m\u001b[0;34m(\u001b[0m\u001b[0mbuffering\u001b[0m\u001b[0;34m=\u001b[0m\u001b[0;32mTrue\u001b[0m\u001b[0;34m)\u001b[0m\u001b[0;34m\u001b[0m\u001b[0m\n\u001b[0m\u001b[1;32m    385\u001b[0m             \u001b[0;32mexcept\u001b[0m \u001b[0mTypeError\u001b[0m\u001b[0;34m:\u001b[0m  \u001b[0;31m# Python 2.6 and older, Python 3\u001b[0m\u001b[0;34m\u001b[0m\u001b[0m\n",
      "\u001b[0;31mTypeError\u001b[0m: getresponse() got an unexpected keyword argument 'buffering'",
      "\nDuring handling of the above exception, another exception occurred:\n",
      "\u001b[0;31mKeyboardInterrupt\u001b[0m                         Traceback (most recent call last)",
      "\u001b[0;32m<ipython-input-102-918d3a41c831>\u001b[0m in \u001b[0;36m<module>\u001b[0;34m()\u001b[0m\n\u001b[1;32m      6\u001b[0m     \u001b[0;32mif\u001b[0m \u001b[0mcounter\u001b[0m \u001b[0;34m%\u001b[0m \u001b[0;36m100\u001b[0m \u001b[0;34m==\u001b[0m \u001b[0;36m0\u001b[0m\u001b[0;34m:\u001b[0m\u001b[0;34m\u001b[0m\u001b[0m\n\u001b[1;32m      7\u001b[0m         \u001b[0mprint\u001b[0m\u001b[0;34m(\u001b[0m\u001b[0;34m\"{}% complete\"\u001b[0m\u001b[0;34m.\u001b[0m\u001b[0mformat\u001b[0m\u001b[0;34m(\u001b[0m\u001b[0mround\u001b[0m\u001b[0;34m(\u001b[0m\u001b[0mcounter\u001b[0m\u001b[0;34m/\u001b[0m\u001b[0mnum_setups\u001b[0m\u001b[0;34m,\u001b[0m\u001b[0;36m3\u001b[0m\u001b[0;34m)\u001b[0m\u001b[0;34m*\u001b[0m\u001b[0;36m100\u001b[0m\u001b[0;34m)\u001b[0m\u001b[0;34m)\u001b[0m\u001b[0;34m\u001b[0m\u001b[0m\n\u001b[0;32m----> 8\u001b[0;31m     \u001b[0msetup_description\u001b[0m \u001b[0;34m=\u001b[0m \u001b[0mget\u001b[0m\u001b[0;34m(\u001b[0m\u001b[0;34m\"https://www.openml.org/api/v1/json/setup/\"\u001b[0m \u001b[0;34m+\u001b[0m \u001b[0mstr\u001b[0m\u001b[0;34m(\u001b[0m\u001b[0msetup_id\u001b[0m\u001b[0;34m)\u001b[0m \u001b[0;34m+\u001b[0m \u001b[0;34m\"?api_key=\"\u001b[0m \u001b[0;34m+\u001b[0m \u001b[0mapi_key\u001b[0m\u001b[0;34m)\u001b[0m\u001b[0;34m.\u001b[0m\u001b[0mjson\u001b[0m\u001b[0;34m(\u001b[0m\u001b[0;34m)\u001b[0m\u001b[0;34m\u001b[0m\u001b[0m\n\u001b[0m\u001b[1;32m      9\u001b[0m     \u001b[0msklearn_setup_descriptions\u001b[0m\u001b[0;34m[\u001b[0m\u001b[0msetup_id\u001b[0m\u001b[0;34m]\u001b[0m \u001b[0;34m=\u001b[0m \u001b[0msetup_description\u001b[0m\u001b[0;34m\u001b[0m\u001b[0m\n",
      "\u001b[0;32m/Users/JasonKatz/anaconda/lib/python3.6/site-packages/requests/api.py\u001b[0m in \u001b[0;36mget\u001b[0;34m(url, params, **kwargs)\u001b[0m\n\u001b[1;32m     68\u001b[0m \u001b[0;34m\u001b[0m\u001b[0m\n\u001b[1;32m     69\u001b[0m     \u001b[0mkwargs\u001b[0m\u001b[0;34m.\u001b[0m\u001b[0msetdefault\u001b[0m\u001b[0;34m(\u001b[0m\u001b[0;34m'allow_redirects'\u001b[0m\u001b[0;34m,\u001b[0m \u001b[0;32mTrue\u001b[0m\u001b[0;34m)\u001b[0m\u001b[0;34m\u001b[0m\u001b[0m\n\u001b[0;32m---> 70\u001b[0;31m     \u001b[0;32mreturn\u001b[0m \u001b[0mrequest\u001b[0m\u001b[0;34m(\u001b[0m\u001b[0;34m'get'\u001b[0m\u001b[0;34m,\u001b[0m \u001b[0murl\u001b[0m\u001b[0;34m,\u001b[0m \u001b[0mparams\u001b[0m\u001b[0;34m=\u001b[0m\u001b[0mparams\u001b[0m\u001b[0;34m,\u001b[0m \u001b[0;34m**\u001b[0m\u001b[0mkwargs\u001b[0m\u001b[0;34m)\u001b[0m\u001b[0;34m\u001b[0m\u001b[0m\n\u001b[0m\u001b[1;32m     71\u001b[0m \u001b[0;34m\u001b[0m\u001b[0m\n\u001b[1;32m     72\u001b[0m \u001b[0;34m\u001b[0m\u001b[0m\n",
      "\u001b[0;32m/Users/JasonKatz/anaconda/lib/python3.6/site-packages/requests/api.py\u001b[0m in \u001b[0;36mrequest\u001b[0;34m(method, url, **kwargs)\u001b[0m\n\u001b[1;32m     54\u001b[0m     \u001b[0;31m# cases, and look like a memory leak in others.\u001b[0m\u001b[0;34m\u001b[0m\u001b[0;34m\u001b[0m\u001b[0m\n\u001b[1;32m     55\u001b[0m     \u001b[0;32mwith\u001b[0m \u001b[0msessions\u001b[0m\u001b[0;34m.\u001b[0m\u001b[0mSession\u001b[0m\u001b[0;34m(\u001b[0m\u001b[0;34m)\u001b[0m \u001b[0;32mas\u001b[0m \u001b[0msession\u001b[0m\u001b[0;34m:\u001b[0m\u001b[0;34m\u001b[0m\u001b[0m\n\u001b[0;32m---> 56\u001b[0;31m         \u001b[0;32mreturn\u001b[0m \u001b[0msession\u001b[0m\u001b[0;34m.\u001b[0m\u001b[0mrequest\u001b[0m\u001b[0;34m(\u001b[0m\u001b[0mmethod\u001b[0m\u001b[0;34m=\u001b[0m\u001b[0mmethod\u001b[0m\u001b[0;34m,\u001b[0m \u001b[0murl\u001b[0m\u001b[0;34m=\u001b[0m\u001b[0murl\u001b[0m\u001b[0;34m,\u001b[0m \u001b[0;34m**\u001b[0m\u001b[0mkwargs\u001b[0m\u001b[0;34m)\u001b[0m\u001b[0;34m\u001b[0m\u001b[0m\n\u001b[0m\u001b[1;32m     57\u001b[0m \u001b[0;34m\u001b[0m\u001b[0m\n\u001b[1;32m     58\u001b[0m \u001b[0;34m\u001b[0m\u001b[0m\n",
      "\u001b[0;32m/Users/JasonKatz/anaconda/lib/python3.6/site-packages/requests/sessions.py\u001b[0m in \u001b[0;36mrequest\u001b[0;34m(self, method, url, params, data, headers, cookies, files, auth, timeout, allow_redirects, proxies, hooks, stream, verify, cert, json)\u001b[0m\n\u001b[1;32m    486\u001b[0m         }\n\u001b[1;32m    487\u001b[0m         \u001b[0msend_kwargs\u001b[0m\u001b[0;34m.\u001b[0m\u001b[0mupdate\u001b[0m\u001b[0;34m(\u001b[0m\u001b[0msettings\u001b[0m\u001b[0;34m)\u001b[0m\u001b[0;34m\u001b[0m\u001b[0m\n\u001b[0;32m--> 488\u001b[0;31m         \u001b[0mresp\u001b[0m \u001b[0;34m=\u001b[0m \u001b[0mself\u001b[0m\u001b[0;34m.\u001b[0m\u001b[0msend\u001b[0m\u001b[0;34m(\u001b[0m\u001b[0mprep\u001b[0m\u001b[0;34m,\u001b[0m \u001b[0;34m**\u001b[0m\u001b[0msend_kwargs\u001b[0m\u001b[0;34m)\u001b[0m\u001b[0;34m\u001b[0m\u001b[0m\n\u001b[0m\u001b[1;32m    489\u001b[0m \u001b[0;34m\u001b[0m\u001b[0m\n\u001b[1;32m    490\u001b[0m         \u001b[0;32mreturn\u001b[0m \u001b[0mresp\u001b[0m\u001b[0;34m\u001b[0m\u001b[0m\n",
      "\u001b[0;32m/Users/JasonKatz/anaconda/lib/python3.6/site-packages/requests/sessions.py\u001b[0m in \u001b[0;36msend\u001b[0;34m(self, request, **kwargs)\u001b[0m\n\u001b[1;32m    607\u001b[0m \u001b[0;34m\u001b[0m\u001b[0m\n\u001b[1;32m    608\u001b[0m         \u001b[0;31m# Send the request\u001b[0m\u001b[0;34m\u001b[0m\u001b[0;34m\u001b[0m\u001b[0m\n\u001b[0;32m--> 609\u001b[0;31m         \u001b[0mr\u001b[0m \u001b[0;34m=\u001b[0m \u001b[0madapter\u001b[0m\u001b[0;34m.\u001b[0m\u001b[0msend\u001b[0m\u001b[0;34m(\u001b[0m\u001b[0mrequest\u001b[0m\u001b[0;34m,\u001b[0m \u001b[0;34m**\u001b[0m\u001b[0mkwargs\u001b[0m\u001b[0;34m)\u001b[0m\u001b[0;34m\u001b[0m\u001b[0m\n\u001b[0m\u001b[1;32m    610\u001b[0m \u001b[0;34m\u001b[0m\u001b[0m\n\u001b[1;32m    611\u001b[0m         \u001b[0;31m# Total elapsed time of the request (approximately)\u001b[0m\u001b[0;34m\u001b[0m\u001b[0;34m\u001b[0m\u001b[0m\n",
      "\u001b[0;32m/Users/JasonKatz/anaconda/lib/python3.6/site-packages/requests/adapters.py\u001b[0m in \u001b[0;36msend\u001b[0;34m(self, request, stream, timeout, verify, cert, proxies)\u001b[0m\n\u001b[1;32m    421\u001b[0m                     \u001b[0mdecode_content\u001b[0m\u001b[0;34m=\u001b[0m\u001b[0;32mFalse\u001b[0m\u001b[0;34m,\u001b[0m\u001b[0;34m\u001b[0m\u001b[0m\n\u001b[1;32m    422\u001b[0m                     \u001b[0mretries\u001b[0m\u001b[0;34m=\u001b[0m\u001b[0mself\u001b[0m\u001b[0;34m.\u001b[0m\u001b[0mmax_retries\u001b[0m\u001b[0;34m,\u001b[0m\u001b[0;34m\u001b[0m\u001b[0m\n\u001b[0;32m--> 423\u001b[0;31m                     \u001b[0mtimeout\u001b[0m\u001b[0;34m=\u001b[0m\u001b[0mtimeout\u001b[0m\u001b[0;34m\u001b[0m\u001b[0m\n\u001b[0m\u001b[1;32m    424\u001b[0m                 )\n\u001b[1;32m    425\u001b[0m \u001b[0;34m\u001b[0m\u001b[0m\n",
      "\u001b[0;32m/Users/JasonKatz/anaconda/lib/python3.6/site-packages/requests/packages/urllib3/connectionpool.py\u001b[0m in \u001b[0;36murlopen\u001b[0;34m(self, method, url, body, headers, retries, redirect, assert_same_host, timeout, pool_timeout, release_conn, chunked, **response_kw)\u001b[0m\n\u001b[1;32m    592\u001b[0m                                                   \u001b[0mtimeout\u001b[0m\u001b[0;34m=\u001b[0m\u001b[0mtimeout_obj\u001b[0m\u001b[0;34m,\u001b[0m\u001b[0;34m\u001b[0m\u001b[0m\n\u001b[1;32m    593\u001b[0m                                                   \u001b[0mbody\u001b[0m\u001b[0;34m=\u001b[0m\u001b[0mbody\u001b[0m\u001b[0;34m,\u001b[0m \u001b[0mheaders\u001b[0m\u001b[0;34m=\u001b[0m\u001b[0mheaders\u001b[0m\u001b[0;34m,\u001b[0m\u001b[0;34m\u001b[0m\u001b[0m\n\u001b[0;32m--> 594\u001b[0;31m                                                   chunked=chunked)\n\u001b[0m\u001b[1;32m    595\u001b[0m \u001b[0;34m\u001b[0m\u001b[0m\n\u001b[1;32m    596\u001b[0m             \u001b[0;31m# If we're going to release the connection in ``finally:``, then\u001b[0m\u001b[0;34m\u001b[0m\u001b[0;34m\u001b[0m\u001b[0m\n",
      "\u001b[0;32m/Users/JasonKatz/anaconda/lib/python3.6/site-packages/requests/packages/urllib3/connectionpool.py\u001b[0m in \u001b[0;36m_make_request\u001b[0;34m(self, conn, method, url, timeout, chunked, **httplib_request_kw)\u001b[0m\n\u001b[1;32m    385\u001b[0m             \u001b[0;32mexcept\u001b[0m \u001b[0mTypeError\u001b[0m\u001b[0;34m:\u001b[0m  \u001b[0;31m# Python 2.6 and older, Python 3\u001b[0m\u001b[0;34m\u001b[0m\u001b[0m\n\u001b[1;32m    386\u001b[0m                 \u001b[0;32mtry\u001b[0m\u001b[0;34m:\u001b[0m\u001b[0;34m\u001b[0m\u001b[0m\n\u001b[0;32m--> 387\u001b[0;31m                     \u001b[0mhttplib_response\u001b[0m \u001b[0;34m=\u001b[0m \u001b[0mconn\u001b[0m\u001b[0;34m.\u001b[0m\u001b[0mgetresponse\u001b[0m\u001b[0;34m(\u001b[0m\u001b[0;34m)\u001b[0m\u001b[0;34m\u001b[0m\u001b[0m\n\u001b[0m\u001b[1;32m    388\u001b[0m                 \u001b[0;32mexcept\u001b[0m \u001b[0mException\u001b[0m \u001b[0;32mas\u001b[0m \u001b[0me\u001b[0m\u001b[0;34m:\u001b[0m\u001b[0;34m\u001b[0m\u001b[0m\n\u001b[1;32m    389\u001b[0m                     \u001b[0;31m# Remove the TypeError from the exception chain in Python 3;\u001b[0m\u001b[0;34m\u001b[0m\u001b[0;34m\u001b[0m\u001b[0m\n",
      "\u001b[0;32m/Users/JasonKatz/anaconda/lib/python3.6/http/client.py\u001b[0m in \u001b[0;36mgetresponse\u001b[0;34m(self)\u001b[0m\n\u001b[1;32m   1329\u001b[0m         \u001b[0;32mtry\u001b[0m\u001b[0;34m:\u001b[0m\u001b[0;34m\u001b[0m\u001b[0m\n\u001b[1;32m   1330\u001b[0m             \u001b[0;32mtry\u001b[0m\u001b[0;34m:\u001b[0m\u001b[0;34m\u001b[0m\u001b[0m\n\u001b[0;32m-> 1331\u001b[0;31m                 \u001b[0mresponse\u001b[0m\u001b[0;34m.\u001b[0m\u001b[0mbegin\u001b[0m\u001b[0;34m(\u001b[0m\u001b[0;34m)\u001b[0m\u001b[0;34m\u001b[0m\u001b[0m\n\u001b[0m\u001b[1;32m   1332\u001b[0m             \u001b[0;32mexcept\u001b[0m \u001b[0mConnectionError\u001b[0m\u001b[0;34m:\u001b[0m\u001b[0;34m\u001b[0m\u001b[0m\n\u001b[1;32m   1333\u001b[0m                 \u001b[0mself\u001b[0m\u001b[0;34m.\u001b[0m\u001b[0mclose\u001b[0m\u001b[0;34m(\u001b[0m\u001b[0;34m)\u001b[0m\u001b[0;34m\u001b[0m\u001b[0m\n",
      "\u001b[0;32m/Users/JasonKatz/anaconda/lib/python3.6/http/client.py\u001b[0m in \u001b[0;36mbegin\u001b[0;34m(self)\u001b[0m\n\u001b[1;32m    295\u001b[0m         \u001b[0;31m# read until we get a non-100 response\u001b[0m\u001b[0;34m\u001b[0m\u001b[0;34m\u001b[0m\u001b[0m\n\u001b[1;32m    296\u001b[0m         \u001b[0;32mwhile\u001b[0m \u001b[0;32mTrue\u001b[0m\u001b[0;34m:\u001b[0m\u001b[0;34m\u001b[0m\u001b[0m\n\u001b[0;32m--> 297\u001b[0;31m             \u001b[0mversion\u001b[0m\u001b[0;34m,\u001b[0m \u001b[0mstatus\u001b[0m\u001b[0;34m,\u001b[0m \u001b[0mreason\u001b[0m \u001b[0;34m=\u001b[0m \u001b[0mself\u001b[0m\u001b[0;34m.\u001b[0m\u001b[0m_read_status\u001b[0m\u001b[0;34m(\u001b[0m\u001b[0;34m)\u001b[0m\u001b[0;34m\u001b[0m\u001b[0m\n\u001b[0m\u001b[1;32m    298\u001b[0m             \u001b[0;32mif\u001b[0m \u001b[0mstatus\u001b[0m \u001b[0;34m!=\u001b[0m \u001b[0mCONTINUE\u001b[0m\u001b[0;34m:\u001b[0m\u001b[0;34m\u001b[0m\u001b[0m\n\u001b[1;32m    299\u001b[0m                 \u001b[0;32mbreak\u001b[0m\u001b[0;34m\u001b[0m\u001b[0m\n",
      "\u001b[0;32m/Users/JasonKatz/anaconda/lib/python3.6/http/client.py\u001b[0m in \u001b[0;36m_read_status\u001b[0;34m(self)\u001b[0m\n\u001b[1;32m    256\u001b[0m \u001b[0;34m\u001b[0m\u001b[0m\n\u001b[1;32m    257\u001b[0m     \u001b[0;32mdef\u001b[0m \u001b[0m_read_status\u001b[0m\u001b[0;34m(\u001b[0m\u001b[0mself\u001b[0m\u001b[0;34m)\u001b[0m\u001b[0;34m:\u001b[0m\u001b[0;34m\u001b[0m\u001b[0m\n\u001b[0;32m--> 258\u001b[0;31m         \u001b[0mline\u001b[0m \u001b[0;34m=\u001b[0m \u001b[0mstr\u001b[0m\u001b[0;34m(\u001b[0m\u001b[0mself\u001b[0m\u001b[0;34m.\u001b[0m\u001b[0mfp\u001b[0m\u001b[0;34m.\u001b[0m\u001b[0mreadline\u001b[0m\u001b[0;34m(\u001b[0m\u001b[0m_MAXLINE\u001b[0m \u001b[0;34m+\u001b[0m \u001b[0;36m1\u001b[0m\u001b[0;34m)\u001b[0m\u001b[0;34m,\u001b[0m \u001b[0;34m\"iso-8859-1\"\u001b[0m\u001b[0;34m)\u001b[0m\u001b[0;34m\u001b[0m\u001b[0m\n\u001b[0m\u001b[1;32m    259\u001b[0m         \u001b[0;32mif\u001b[0m \u001b[0mlen\u001b[0m\u001b[0;34m(\u001b[0m\u001b[0mline\u001b[0m\u001b[0;34m)\u001b[0m \u001b[0;34m>\u001b[0m \u001b[0m_MAXLINE\u001b[0m\u001b[0;34m:\u001b[0m\u001b[0;34m\u001b[0m\u001b[0m\n\u001b[1;32m    260\u001b[0m             \u001b[0;32mraise\u001b[0m \u001b[0mLineTooLong\u001b[0m\u001b[0;34m(\u001b[0m\u001b[0;34m\"status line\"\u001b[0m\u001b[0;34m)\u001b[0m\u001b[0;34m\u001b[0m\u001b[0m\n",
      "\u001b[0;32m/Users/JasonKatz/anaconda/lib/python3.6/socket.py\u001b[0m in \u001b[0;36mreadinto\u001b[0;34m(self, b)\u001b[0m\n\u001b[1;32m    584\u001b[0m         \u001b[0;32mwhile\u001b[0m \u001b[0;32mTrue\u001b[0m\u001b[0;34m:\u001b[0m\u001b[0;34m\u001b[0m\u001b[0m\n\u001b[1;32m    585\u001b[0m             \u001b[0;32mtry\u001b[0m\u001b[0;34m:\u001b[0m\u001b[0;34m\u001b[0m\u001b[0m\n\u001b[0;32m--> 586\u001b[0;31m                 \u001b[0;32mreturn\u001b[0m \u001b[0mself\u001b[0m\u001b[0;34m.\u001b[0m\u001b[0m_sock\u001b[0m\u001b[0;34m.\u001b[0m\u001b[0mrecv_into\u001b[0m\u001b[0;34m(\u001b[0m\u001b[0mb\u001b[0m\u001b[0;34m)\u001b[0m\u001b[0;34m\u001b[0m\u001b[0m\n\u001b[0m\u001b[1;32m    587\u001b[0m             \u001b[0;32mexcept\u001b[0m \u001b[0mtimeout\u001b[0m\u001b[0;34m:\u001b[0m\u001b[0;34m\u001b[0m\u001b[0m\n\u001b[1;32m    588\u001b[0m                 \u001b[0mself\u001b[0m\u001b[0;34m.\u001b[0m\u001b[0m_timeout_occurred\u001b[0m \u001b[0;34m=\u001b[0m \u001b[0;32mTrue\u001b[0m\u001b[0;34m\u001b[0m\u001b[0m\n",
      "\u001b[0;32m/Users/JasonKatz/anaconda/lib/python3.6/site-packages/requests/packages/urllib3/contrib/pyopenssl.py\u001b[0m in \u001b[0;36mrecv_into\u001b[0;34m(self, *args, **kwargs)\u001b[0m\n\u001b[1;32m    254\u001b[0m     \u001b[0;32mdef\u001b[0m \u001b[0mrecv_into\u001b[0m\u001b[0;34m(\u001b[0m\u001b[0mself\u001b[0m\u001b[0;34m,\u001b[0m \u001b[0;34m*\u001b[0m\u001b[0margs\u001b[0m\u001b[0;34m,\u001b[0m \u001b[0;34m**\u001b[0m\u001b[0mkwargs\u001b[0m\u001b[0;34m)\u001b[0m\u001b[0;34m:\u001b[0m\u001b[0;34m\u001b[0m\u001b[0m\n\u001b[1;32m    255\u001b[0m         \u001b[0;32mtry\u001b[0m\u001b[0;34m:\u001b[0m\u001b[0;34m\u001b[0m\u001b[0m\n\u001b[0;32m--> 256\u001b[0;31m             \u001b[0;32mreturn\u001b[0m \u001b[0mself\u001b[0m\u001b[0;34m.\u001b[0m\u001b[0mconnection\u001b[0m\u001b[0;34m.\u001b[0m\u001b[0mrecv_into\u001b[0m\u001b[0;34m(\u001b[0m\u001b[0;34m*\u001b[0m\u001b[0margs\u001b[0m\u001b[0;34m,\u001b[0m \u001b[0;34m**\u001b[0m\u001b[0mkwargs\u001b[0m\u001b[0;34m)\u001b[0m\u001b[0;34m\u001b[0m\u001b[0m\n\u001b[0m\u001b[1;32m    257\u001b[0m         \u001b[0;32mexcept\u001b[0m \u001b[0mOpenSSL\u001b[0m\u001b[0;34m.\u001b[0m\u001b[0mSSL\u001b[0m\u001b[0;34m.\u001b[0m\u001b[0mSysCallError\u001b[0m \u001b[0;32mas\u001b[0m \u001b[0me\u001b[0m\u001b[0;34m:\u001b[0m\u001b[0;34m\u001b[0m\u001b[0m\n\u001b[1;32m    258\u001b[0m             \u001b[0;32mif\u001b[0m \u001b[0mself\u001b[0m\u001b[0;34m.\u001b[0m\u001b[0msuppress_ragged_eofs\u001b[0m \u001b[0;32mand\u001b[0m \u001b[0me\u001b[0m\u001b[0;34m.\u001b[0m\u001b[0margs\u001b[0m \u001b[0;34m==\u001b[0m \u001b[0;34m(\u001b[0m\u001b[0;34m-\u001b[0m\u001b[0;36m1\u001b[0m\u001b[0;34m,\u001b[0m \u001b[0;34m'Unexpected EOF'\u001b[0m\u001b[0;34m)\u001b[0m\u001b[0;34m:\u001b[0m\u001b[0;34m\u001b[0m\u001b[0m\n",
      "\u001b[0;32m/Users/JasonKatz/anaconda/lib/python3.6/site-packages/OpenSSL/SSL.py\u001b[0m in \u001b[0;36mrecv_into\u001b[0;34m(self, buffer, nbytes, flags)\u001b[0m\n\u001b[1;32m   1332\u001b[0m             \u001b[0mresult\u001b[0m \u001b[0;34m=\u001b[0m \u001b[0m_lib\u001b[0m\u001b[0;34m.\u001b[0m\u001b[0mSSL_peek\u001b[0m\u001b[0;34m(\u001b[0m\u001b[0mself\u001b[0m\u001b[0;34m.\u001b[0m\u001b[0m_ssl\u001b[0m\u001b[0;34m,\u001b[0m \u001b[0mbuf\u001b[0m\u001b[0;34m,\u001b[0m \u001b[0mnbytes\u001b[0m\u001b[0;34m)\u001b[0m\u001b[0;34m\u001b[0m\u001b[0m\n\u001b[1;32m   1333\u001b[0m         \u001b[0;32melse\u001b[0m\u001b[0;34m:\u001b[0m\u001b[0;34m\u001b[0m\u001b[0m\n\u001b[0;32m-> 1334\u001b[0;31m             \u001b[0mresult\u001b[0m \u001b[0;34m=\u001b[0m \u001b[0m_lib\u001b[0m\u001b[0;34m.\u001b[0m\u001b[0mSSL_read\u001b[0m\u001b[0;34m(\u001b[0m\u001b[0mself\u001b[0m\u001b[0;34m.\u001b[0m\u001b[0m_ssl\u001b[0m\u001b[0;34m,\u001b[0m \u001b[0mbuf\u001b[0m\u001b[0;34m,\u001b[0m \u001b[0mnbytes\u001b[0m\u001b[0;34m)\u001b[0m\u001b[0;34m\u001b[0m\u001b[0m\n\u001b[0m\u001b[1;32m   1335\u001b[0m         \u001b[0mself\u001b[0m\u001b[0;34m.\u001b[0m\u001b[0m_raise_ssl_error\u001b[0m\u001b[0;34m(\u001b[0m\u001b[0mself\u001b[0m\u001b[0;34m.\u001b[0m\u001b[0m_ssl\u001b[0m\u001b[0;34m,\u001b[0m \u001b[0mresult\u001b[0m\u001b[0;34m)\u001b[0m\u001b[0;34m\u001b[0m\u001b[0m\n\u001b[1;32m   1336\u001b[0m \u001b[0;34m\u001b[0m\u001b[0m\n",
      "\u001b[0;31mKeyboardInterrupt\u001b[0m: "
     ]
    },
    {
     "name": "stdout",
     "output_type": "stream",
     "text": [
      "time: 1min 2s\n"
     ]
    }
   ],
   "source": [
    "num_setups = len(sklearn_setup_ids)\n",
    "counter = 0\n",
    "sklearn_setup_descriptions = {}\n",
    "for setup_id in sklearn_setup_ids:\n",
    "    counter += 1\n",
    "    if counter % 100 == 0:\n",
    "        print(\"{}% complete\".format(round(counter/num_setups,3)*100))\n",
    "    setup_description = get(\"https://www.openml.org/api/v1/json/setup/\" + str(setup_id) + \"?api_key=\" + api_key).json()\n",
    "    sklearn_setup_descriptions[setup_id] = setup_description"
   ]
  },
  {
   "cell_type": "code",
   "execution_count": 85,
   "metadata": {},
   "outputs": [
    {
     "name": "stdout",
     "output_type": "stream",
     "text": [
      "time: 220 ms\n"
     ]
    }
   ],
   "source": [
    "with open('sklearn_setup_descriptions.json', 'w') as outfile:\n",
    "    json.dump(sklearn_setup_descriptions, outfile)"
   ]
  },
  {
   "cell_type": "code",
   "execution_count": 143,
   "metadata": {},
   "outputs": [
    {
     "name": "stdout",
     "output_type": "stream",
     "text": [
      "time: 4.6 ms\n"
     ]
    }
   ],
   "source": [
    "sklearn_data_set_ids = []\n",
    "for task_id,task_description in sklearn_task_descriptions.items():\n",
    "    data_set_id = task_description['task']['input'][0]['data_set']['data_set_id']\n",
    "    sklearn_data_set_ids.append(data_set_id)"
   ]
  },
  {
   "cell_type": "code",
   "execution_count": null,
   "metadata": {},
   "outputs": [
    {
     "name": "stdout",
     "output_type": "stream",
     "text": [
      "1.4000000000000001% complete\n",
      "2.8000000000000003% complete\n",
      "4.3% complete\n",
      "5.7% complete\n",
      "7.1% complete\n",
      "8.5% complete\n",
      "9.9% complete\n",
      "11.4% complete\n",
      "12.8% complete\n",
      "14.2% complete\n",
      "15.6% complete\n",
      "17.0% complete\n"
     ]
    }
   ],
   "source": [
    "num_data_sets = len(sklearn_data_set_ids)\n",
    "counter = 0\n",
    "sklearn_data_set_descriptions = {}\n",
    "for data_set_id in sklearn_data_set_ids:\n",
    "    counter += 1\n",
    "    if counter % 10 == 0:\n",
    "        print(\"{}% complete\".format(round(counter/num_data_sets,3)*100))\n",
    "    data_set_description = get(\"https://www.openml.org/api/v1/json/data/\" + str(data_set_id) + \"?api_key=\" + api_key).json()\n",
    "    sklearn_data_set_descriptions[data_set_id] = data_set_description"
   ]
  },
  {
   "cell_type": "code",
   "execution_count": null,
   "metadata": {
    "collapsed": true
   },
   "outputs": [],
   "source": [
    "with open('sklearn_data_set_descriptions.json', 'w') as outfile:\n",
    "    json.dump(sklearn_data_set_descriptions, outfile)"
   ]
  },
  {
   "cell_type": "code",
   "execution_count": null,
   "metadata": {
    "collapsed": true
   },
   "outputs": [],
   "source": []
  },
  {
   "cell_type": "code",
   "execution_count": null,
   "metadata": {
    "collapsed": true
   },
   "outputs": [],
   "source": []
  },
  {
   "cell_type": "code",
   "execution_count": 5,
   "metadata": {},
   "outputs": [
    {
     "name": "stdout",
     "output_type": "stream",
     "text": [
      "time: 821 ms\n"
     ]
    }
   ],
   "source": [
    "with open('flow_descriptions.json') as data_file:\n",
    "    flow_descriptions = json.load(data_file)"
   ]
  }
 ],
 "metadata": {
  "kernelspec": {
   "display_name": "Python 3",
   "language": "python",
   "name": "python3"
  },
  "language_info": {
   "codemirror_mode": {
    "name": "ipython",
    "version": 3
   },
   "file_extension": ".py",
   "mimetype": "text/x-python",
   "name": "python",
   "nbconvert_exporter": "python",
   "pygments_lexer": "ipython3",
   "version": "3.6.0"
  }
 },
 "nbformat": 4,
 "nbformat_minor": 2
}
