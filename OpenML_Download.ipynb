{
 "cells": [
  {
   "cell_type": "code",
   "execution_count": 162,
   "metadata": {},
   "outputs": [
    {
     "name": "stdout",
     "output_type": "stream",
     "text": [
      "The autotime extension is already loaded. To reload it, use:\n",
      "  %reload_ext autotime\n",
      "time: 47 ms\n"
     ]
    }
   ],
   "source": [
    "from requests import get\n",
    "import numpy as np\n",
    "import pandas as pd\n",
    "import json\n",
    "from pprint import pprint\n",
    "%load_ext autotime\n",
    "%matplotlib inline  "
   ]
  },
  {
   "cell_type": "code",
   "execution_count": 5,
   "metadata": {},
   "outputs": [
    {
     "name": "stdout",
     "output_type": "stream",
     "text": [
      "time: 1.79 ms\n"
     ]
    }
   ],
   "source": [
    "api_key = \"1dbab546719d8085308a5bfde18381d7\""
   ]
  },
  {
   "cell_type": "code",
   "execution_count": 31,
   "metadata": {},
   "outputs": [
    {
     "name": "stdout",
     "output_type": "stream",
     "text": [
      "time: 1.57 s\n"
     ]
    }
   ],
   "source": [
    "all_flows = get(\"https://www.openml.org/api/v1/json/flow/list?api_key=\" + api_key).json()"
   ]
  },
  {
   "cell_type": "code",
   "execution_count": 51,
   "metadata": {},
   "outputs": [
    {
     "name": "stdout",
     "output_type": "stream",
     "text": [
      "time: 8.12 ms\n"
     ]
    }
   ],
   "source": [
    "flow_id_names = {}\n",
    "for flow in all_flows['flows']['flow']:\n",
    "    flow_id_names[flow['id']] = flow['name']"
   ]
  },
  {
   "cell_type": "code",
   "execution_count": 52,
   "metadata": {},
   "outputs": [
    {
     "name": "stdout",
     "output_type": "stream",
     "text": [
      "time: 32.8 ms\n"
     ]
    }
   ],
   "source": [
    "with open('flow_id_names.json', 'w') as outfile:\n",
    "    json.dump(flow_id_names, outfile)"
   ]
  },
  {
   "cell_type": "code",
   "execution_count": 40,
   "metadata": {
    "collapsed": true
   },
   "outputs": [],
   "source": [
    "all_tasks = get(\"https://www.openml.org/api/v1/json/task/list?api_key=\" + api_key).json()\n",
    "supervised_classification_task_ids = []\n",
    "for task in all_tasks['tasks']['task']:\n",
    "    if task['task_type'] == 'Supervised Classification':\n",
    "        supervised_classification_task_ids.append(task['task_id'])"
   ]
  },
  {
   "cell_type": "code",
   "execution_count": 141,
   "metadata": {
    "collapsed": true
   },
   "outputs": [
    {
     "name": "stdout",
     "output_type": "stream",
     "text": [
      "0.9208103130755065% complete\n",
      "1.841620626151013% complete\n",
      "2.7624309392265194% complete\n",
      "3.683241252302026% complete\n",
      "4.6040515653775325% complete\n",
      "5.524861878453039% complete\n",
      "6.445672191528545% complete\n",
      "7.366482504604052% complete\n",
      "8.287292817679557% complete\n",
      "9.208103130755065% complete\n",
      "10.128913443830571% complete\n",
      "11.049723756906078% complete\n",
      "11.970534069981584% complete\n",
      "12.89134438305709% complete\n",
      "13.812154696132598% complete\n",
      "14.732965009208105% complete\n",
      "15.65377532228361% complete\n",
      "16.574585635359114% complete\n",
      "17.495395948434624% complete\n",
      "18.41620626151013% complete\n",
      "19.337016574585636% complete\n",
      "20.257826887661142% complete\n",
      "21.178637200736645% complete\n",
      "22.099447513812155% complete\n",
      "23.02025782688766% complete\n",
      "23.941068139963168% complete\n",
      "24.861878453038674% complete\n",
      "25.78268876611418% complete\n",
      "26.703499079189687% complete\n",
      "27.624309392265197% complete\n",
      "28.5451197053407% complete\n",
      "29.46593001841621% complete\n",
      "30.386740331491712% complete\n",
      "31.30755064456722% complete\n",
      "32.22836095764273% complete\n",
      "33.14917127071823% complete\n",
      "34.06998158379374% complete\n",
      "34.99079189686925% complete\n",
      "35.91160220994475% complete\n",
      "36.83241252302026% complete\n",
      "37.75322283609576% complete\n",
      "38.67403314917127% complete\n",
      "39.59484346224678% complete\n",
      "40.515653775322285% complete\n",
      "41.43646408839779% complete\n",
      "42.35727440147329% complete\n",
      "43.278084714548804% complete\n",
      "44.19889502762431% complete\n",
      "45.11970534069982% complete\n",
      "46.04051565377532% complete\n",
      "46.96132596685083% complete\n",
      "47.882136279926335% complete\n",
      "48.80294659300184% complete\n",
      "49.72375690607735% complete\n",
      "50.64456721915286% complete\n",
      "51.56537753222836% complete\n",
      "52.48618784530387% complete\n",
      "53.40699815837937% complete\n",
      "54.32780847145487% complete\n",
      "55.24861878453039% complete\n",
      "56.16942909760589% complete\n",
      "57.0902394106814% complete\n",
      "58.011049723756905% complete\n",
      "58.93186003683242% complete\n",
      "59.852670349907925% complete\n",
      "60.773480662983424% complete\n",
      "61.69429097605893% complete\n",
      "62.61510128913444% complete\n",
      "63.53591160220995% complete\n",
      "64.45672191528546% complete\n",
      "65.37753222836096% complete\n",
      "66.29834254143645% complete\n",
      "67.21915285451196% complete\n",
      "68.13996316758748% complete\n",
      "69.06077348066299% complete\n",
      "69.9815837937385% complete\n",
      "70.90239410681399% complete\n",
      "71.8232044198895% complete\n",
      "72.74401473296501% complete\n",
      "73.66482504604052% complete\n",
      "74.58563535911603% complete\n",
      "75.50644567219152% complete\n",
      "76.42725598526704% complete\n",
      "77.34806629834254% complete\n",
      "78.26887661141805% complete\n",
      "79.18968692449356% complete\n",
      "80.11049723756905% complete\n",
      "81.03130755064457% complete\n",
      "81.95211786372008% complete\n",
      "82.87292817679558% complete\n",
      "83.79373848987109% complete\n",
      "84.71454880294658% complete\n",
      "85.6353591160221% complete\n",
      "86.55616942909761% complete\n",
      "87.47697974217311% complete\n",
      "88.39779005524862% complete\n",
      "89.31860036832413% complete\n",
      "90.23941068139963% complete\n",
      "91.16022099447514% complete\n",
      "92.08103130755065% complete\n",
      "93.00184162062615% complete\n",
      "93.92265193370166% complete\n",
      "94.84346224677716% complete\n",
      "95.76427255985267% complete\n",
      "96.68508287292818% complete\n",
      "97.60589318600368% complete\n",
      "98.52670349907919% complete\n",
      "99.4475138121547% complete\n",
      "time: 21min 20s\n"
     ]
    }
   ],
   "source": [
    "num_tasks = len(all_task_ids)\n",
    "counter = 0\n",
    "supervised_classification_flow_ids = []\n",
    "for task_id in supervised_classification_task_ids:\n",
    "    counter += 1\n",
    "    if counter % 25 == 0:\n",
    "        print(\"{}% complete\".format(round(counter/num_tasks,3)*100))\n",
    "    try:\n",
    "        runs = get(\"https://www.openml.org/api/v1/json/run/list/task/\" + str(task_id) + \"/limit/10000?api_key=\" + api_key)\n",
    "        runs = runs.json()\n",
    "    except:\n",
    "        runs = json.loads(runs.text.replace('\\n', ''))\n",
    "    if 'error' not in runs:\n",
    "        for run in runs['runs']['run']:\n",
    "            supervised_classification_flow_ids.append(run['flow_id'])\n",
    "        supervised_classification_flow_ids = list(set(supervised_classification_flow_ids))"
   ]
  },
  {
   "cell_type": "code",
   "execution_count": 188,
   "metadata": {
    "collapsed": true
   },
   "outputs": [
    {
     "name": "stdout",
     "output_type": "stream",
     "text": [
      "0.8641548565502939% complete\n",
      "1.7283097131005878% complete\n",
      "2.5924645696508817% complete\n",
      "3.4566194262011756% complete\n",
      "4.320774282751469% complete\n",
      "5.184929139301763% complete\n",
      "6.049083995852056% complete\n",
      "6.913238852402351% complete\n",
      "7.777393708952644% complete\n",
      "8.641548565502937% complete\n",
      "9.505703422053232% complete\n",
      "10.369858278603527% complete\n",
      "11.23401313515382% complete\n",
      "12.098167991704113% complete\n",
      "12.962322848254408% complete\n",
      "13.826477704804702% complete\n",
      "14.690632561354994% complete\n",
      "15.554787417905288% complete\n",
      "16.418942274455585% complete\n",
      "17.283097131005874% complete\n",
      "18.14725198755617% complete\n",
      "19.011406844106464% complete\n",
      "19.875561700656757% complete\n",
      "20.739716557207053% complete\n",
      "21.603871413757343% complete\n",
      "22.46802627030764% complete\n",
      "23.332181126857936% complete\n",
      "24.196335983408225% complete\n",
      "25.060490839958522% complete\n",
      "25.924645696508815% complete\n",
      "26.788800553059104% complete\n",
      "27.652955409609405% complete\n",
      "28.517110266159694% complete\n",
      "29.381265122709987% complete\n",
      "30.245419979260284% complete\n",
      "31.109574835810577% complete\n",
      "31.97372969236087% complete\n",
      "32.83788454891117% complete\n",
      "33.70203940546146% complete\n",
      "34.56619426201175% complete\n",
      "35.43034911856205% complete\n",
      "36.29450397511234% complete\n",
      "37.158658831662635% complete\n",
      "38.02281368821293% complete\n",
      "38.88696854476322% complete\n",
      "39.751123401313514% complete\n",
      "40.61527825786381% complete\n",
      "41.47943311441411% complete\n",
      "42.3435879709644% complete\n",
      "43.207742827514686% complete\n",
      "44.071897684064986% complete\n",
      "44.93605254061528% complete\n",
      "45.80020739716557% complete\n",
      "46.66436225371587% complete\n",
      "47.52851711026616% complete\n",
      "48.39267196681645% complete\n",
      "49.256826823366744% complete\n",
      "50.120981679917044% complete\n",
      "50.98513653646734% complete\n",
      "51.84929139301763% complete\n",
      "52.713446249567916% complete\n",
      "53.57760110611821% complete\n",
      "54.441755962668516% complete\n",
      "55.30591081921881% complete\n",
      "56.170065675769095% complete\n",
      "57.03422053231939% complete\n",
      "57.89837538886968% complete\n",
      "58.762530245419974% complete\n",
      "59.62668510197028% complete\n",
      "60.49083995852057% complete\n",
      "61.35499481507086% complete\n",
      "62.21914967162115% complete\n",
      "63.083304528171446% complete\n",
      "63.94745938472174% complete\n",
      "64.81161424127203% complete\n",
      "65.67576909782234% complete\n",
      "66.53992395437263% complete\n",
      "67.40407881092293% complete\n",
      "68.26823366747321% complete\n",
      "69.1323885240235% complete\n",
      "69.9965433805738% complete\n",
      "70.8606982371241% complete\n",
      "71.72485309367438% complete\n",
      "72.58900795022468% complete\n",
      "73.45316280677497% complete\n",
      "74.31731766332527% complete\n",
      "75.18147251987556% complete\n",
      "76.04562737642586% complete\n",
      "76.90978223297616% complete\n",
      "77.77393708952644% complete\n",
      "78.63809194607674% complete\n",
      "79.50224680262703% complete\n",
      "80.36640165917733% complete\n",
      "81.23055651572761% complete\n",
      "82.09471137227791% complete\n",
      "82.95886622882821% complete\n",
      "83.8230210853785% complete\n",
      "84.6871759419288% complete\n",
      "85.55133079847909% complete\n",
      "86.41548565502937% complete\n",
      "87.27964051157967% complete\n",
      "88.14379536812997% complete\n",
      "89.00795022468027% complete\n",
      "89.87210508123056% complete\n",
      "90.73625993778084% complete\n",
      "91.60041479433114% complete\n",
      "92.46456965088143% complete\n",
      "93.32872450743174% complete\n",
      "94.19287936398203% complete\n",
      "95.05703422053232% complete\n",
      "95.92118907708262% complete\n",
      "96.7853439336329% complete\n",
      "97.6494987901832% complete\n",
      "98.51365364673349% complete\n",
      "99.37780850328379% complete\n",
      "time: 23min 43s\n"
     ]
    }
   ],
   "source": [
    "num_flows = len(supervised_classification_flow_ids[1:])\n",
    "counter = 0\n",
    "supervised_classification_flow_descriptions = []\n",
    "for flow in supervised_classification_flow_ids[1:]:\n",
    "    counter += 1\n",
    "    if counter % 25 == 0:\n",
    "        print(\"{}% complete\".format(round(counter/num_flows,3)*100))\n",
    "    flow_description = get(\"https://www.openml.org/api/v1/json/flow/\" + str(flow) + \"?api_key=\" + api_key).json()\n",
    "    if 'error' not in flow_description:\n",
    "        supervised_classification_flow_descriptions.append(flow_description)"
   ]
  },
  {
   "cell_type": "code",
   "execution_count": 45,
   "metadata": {},
   "outputs": [
    {
     "name": "stdout",
     "output_type": "stream",
     "text": [
      "time: 6.08 ms\n"
     ]
    }
   ],
   "source": [
    "sklearn_flows = []\n",
    "for flow in supervised_classification_flow_descriptions:\n",
    "    if flow['flow']['name'][0:7] == 'sklearn':\n",
    "        sklearn_flows.append(flow['flow']['id'])"
   ]
  },
  {
   "cell_type": "code",
   "execution_count": 72,
   "metadata": {
    "collapsed": true
   },
   "outputs": [
    {
     "name": "stdout",
     "output_type": "stream",
     "text": [
      "1.858736059479554% complete\n",
      "3.717472118959108% complete\n",
      "5.5762081784386615% complete\n",
      "7.434944237918216% complete\n",
      "9.293680297397769% complete\n",
      "11.152416356877323% complete\n",
      "13.011152416356877% complete\n",
      "14.869888475836431% complete\n",
      "16.728624535315987% complete\n",
      "18.587360594795538% complete\n",
      "20.44609665427509% complete\n",
      "22.304832713754646% complete\n",
      "24.1635687732342% complete\n",
      "26.022304832713754% complete\n",
      "27.881040892193308% complete\n",
      "29.739776951672862% complete\n",
      "31.59851301115242% complete\n",
      "33.457249070631974% complete\n",
      "35.31598513011153% complete\n",
      "37.174721189591075% complete\n",
      "39.03345724907063% complete\n",
      "40.89219330855018% complete\n",
      "42.75092936802974% complete\n",
      "44.60966542750929% complete\n",
      "46.468401486988846% complete\n",
      "48.3271375464684% complete\n",
      "50.18587360594795% complete\n",
      "52.04460966542751% complete\n",
      "53.90334572490706% complete\n",
      "55.762081784386616% complete\n",
      "57.62081784386617% complete\n",
      "59.479553903345725% complete\n",
      "61.33828996282528% complete\n",
      "63.19702602230484% complete\n",
      "65.05576208178438% complete\n",
      "66.91449814126395% complete\n",
      "68.77323420074349% complete\n",
      "70.63197026022306% complete\n",
      "72.4907063197026% complete\n",
      "74.34944237918215% complete\n",
      "76.2081784386617% complete\n",
      "78.06691449814126% complete\n",
      "79.92565055762083% complete\n",
      "81.78438661710037% complete\n",
      "83.64312267657994% complete\n",
      "85.50185873605948% complete\n",
      "87.36059479553904% complete\n",
      "89.21933085501858% complete\n",
      "91.07806691449815% complete\n",
      "92.93680297397769% complete\n",
      "94.79553903345726% complete\n",
      "96.6542750929368% complete\n",
      "98.51301115241635% complete\n",
      "time: 4min 27s\n"
     ]
    }
   ],
   "source": [
    "num_flows = len(sklearn_flows)\n",
    "counter = 0\n",
    "sklearn_flow_descriptions = {}\n",
    "sklearn_runs_info = {}\n",
    "for flow in sklearn_flows:\n",
    "    counter += 1\n",
    "    if counter % 5 == 0:\n",
    "        print(\"{}% complete\".format(round(counter/num_flows,3)*100))\n",
    "    runs_info = get(\"https://www.openml.org/api/v1/json/run/list/flow/\" + flow + \"?api_key=\" + api_key).json()\n",
    "    flow_description = get(\"https://www.openml.org/api/v1/json/flow/\" + flow + \"?api_key=\" + api_key).json()\n",
    "    if ('error' not in runs_info) and ('error' not in flow_description):\n",
    "        sklearn_runs_info[flow] = runs_info\n",
    "        sklearn_flow_descriptions[flow] = flow_description"
   ]
  },
  {
   "cell_type": "code",
   "execution_count": null,
   "metadata": {
    "collapsed": true
   },
   "outputs": [],
   "source": [
    "with open('sklearn_flow_descriptions.json', 'w') as outfile:\n",
    "    json.dump(sklearn_flow_descriptions, outfile)\n",
    "with open('sklearn_runs_info.json', 'w') as outfile:\n",
    "    json.dump(sklearn_runs_info, outfile)"
   ]
  },
  {
   "cell_type": "code",
   "execution_count": 78,
   "metadata": {},
   "outputs": [
    {
     "name": "stdout",
     "output_type": "stream",
     "text": [
      "time: 58.8 ms\n"
     ]
    }
   ],
   "source": [
    "sklearn_task_ids = []\n",
    "sklearn_setup_ids = []\n",
    "for flow,runs in sklearn_runs_info.items():\n",
    "    for run in runs['runs']['run']:\n",
    "        sklearn_task_ids.append(run['task_id'])\n",
    "        sklearn_setup_ids.append(run['setup_id'])\n",
    "sklearn_task_ids = list(set(sklearn_task_ids))\n",
    "sklearn_setup_ids = list(set(sklearn_setup_ids))"
   ]
  },
  {
   "cell_type": "code",
   "execution_count": 84,
   "metadata": {
    "collapsed": true
   },
   "outputs": [
    {
     "name": "stdout",
     "output_type": "stream",
     "text": [
      "1.4204545454545454% complete\n",
      "2.840909090909091% complete\n",
      "4.261363636363636% complete\n",
      "5.681818181818182% complete\n",
      "7.1022727272727275% complete\n",
      "8.522727272727272% complete\n",
      "9.943181818181818% complete\n",
      "11.363636363636363% complete\n",
      "12.784090909090908% complete\n",
      "14.204545454545455% complete\n",
      "15.625% complete\n",
      "17.045454545454543% complete\n",
      "18.46590909090909% complete\n",
      "19.886363636363637% complete\n",
      "21.306818181818183% complete\n",
      "22.727272727272727% complete\n",
      "24.147727272727273% complete\n",
      "25.568181818181817% complete\n",
      "26.988636363636363% complete\n",
      "28.40909090909091% complete\n",
      "29.829545454545453% complete\n",
      "31.25% complete\n",
      "32.67045454545455% complete\n",
      "34.090909090909086% complete\n",
      "35.51136363636363% complete\n",
      "36.93181818181818% complete\n",
      "38.35227272727273% complete\n",
      "39.77272727272727% complete\n",
      "41.19318181818182% complete\n",
      "42.61363636363637% complete\n",
      "44.034090909090914% complete\n",
      "45.45454545454545% complete\n",
      "46.875% complete\n",
      "48.29545454545455% complete\n",
      "49.715909090909086% complete\n",
      "51.13636363636363% complete\n",
      "52.55681818181818% complete\n",
      "53.97727272727273% complete\n",
      "55.39772727272727% complete\n",
      "56.81818181818182% complete\n",
      "58.23863636363637% complete\n",
      "59.65909090909091% complete\n",
      "61.07954545454546% complete\n",
      "62.5% complete\n",
      "63.92045454545454% complete\n",
      "65.3409090909091% complete\n",
      "66.76136363636364% complete\n",
      "68.18181818181817% complete\n",
      "69.60227272727273% complete\n",
      "71.02272727272727% complete\n",
      "72.44318181818183% complete\n",
      "73.86363636363636% complete\n",
      "75.2840909090909% complete\n",
      "76.70454545454545% complete\n",
      "78.125% complete\n",
      "79.54545454545455% complete\n",
      "80.9659090909091% complete\n",
      "82.38636363636364% complete\n",
      "83.80681818181817% complete\n",
      "85.22727272727273% complete\n",
      "86.64772727272727% complete\n",
      "88.06818181818183% complete\n",
      "89.48863636363636% complete\n",
      "90.9090909090909% complete\n",
      "92.32954545454545% complete\n",
      "93.75% complete\n",
      "95.17045454545455% complete\n",
      "96.5909090909091% complete\n",
      "98.01136363636364% complete\n",
      "99.43181818181817% complete\n",
      "time: 5min 42s\n"
     ]
    }
   ],
   "source": [
    "num_tasks = len(sklearn_task_ids)\n",
    "counter = 0\n",
    "sklearn_task_descriptions = {}\n",
    "for task_id in sklearn_task_ids:\n",
    "    counter += 1\n",
    "    if counter % 10 == 0:\n",
    "        print(\"{}% complete\".format(round(counter/num_tasks,3)*100))\n",
    "    task_description = get(\"https://www.openml.org/api/v1/json/task/\" + str(task_id) + \"?api_key=\" + api_key).json()\n",
    "    sklearn_task_descriptions[task_id] = task_description"
   ]
  },
  {
   "cell_type": "code",
   "execution_count": null,
   "metadata": {
    "collapsed": true
   },
   "outputs": [],
   "source": [
    "with open('sklearn_task_descriptions.json', 'w') as outfile:\n",
    "    json.dump(sklearn_task_descriptions, outfile)"
   ]
  },
  {
   "cell_type": "code",
   "execution_count": 154,
   "metadata": {
    "collapsed": true
   },
   "outputs": [
    {
     "name": "stdout",
     "output_type": "stream",
     "text": [
      "0.8% complete\n",
      "1.5% complete\n",
      "2.3% complete\n",
      "3.1% complete\n",
      "3.8% complete\n",
      "4.6% complete\n",
      "5.4% complete\n",
      "6.1% complete\n",
      "6.9% complete\n",
      "7.7% complete\n",
      "8.4% complete\n",
      "9.2% complete\n",
      "10.0% complete\n",
      "10.7% complete\n",
      "11.5% complete\n",
      "12.3% complete\n",
      "13.0% complete\n",
      "13.8% complete\n",
      "14.6% complete\n",
      "15.4% complete\n",
      "16.1% complete\n",
      "16.900000000000002% complete\n",
      "17.7% complete\n",
      "18.4% complete\n",
      "19.2% complete\n",
      "20.0% complete\n",
      "20.7% complete\n",
      "21.5% complete\n",
      "22.3% complete\n",
      "23.0% complete\n",
      "23.799999999999997% complete\n",
      "24.6% complete\n",
      "25.3% complete\n",
      "26.1% complete\n",
      "26.900000000000002% complete\n",
      "27.6% complete\n",
      "28.4% complete\n",
      "29.2% complete\n",
      "29.9% complete\n",
      "30.7% complete\n",
      "31.5% complete\n",
      "32.2% complete\n",
      "33.0% complete\n",
      "33.800000000000004% complete\n",
      "34.5% complete\n",
      "35.3% complete\n",
      "36.1% complete\n",
      "36.8% complete\n",
      "37.6% complete\n",
      "38.4% complete\n",
      "39.1% complete\n",
      "39.900000000000006% complete\n",
      "40.699999999999996% complete\n",
      "41.5% complete\n",
      "42.199999999999996% complete\n",
      "43.0% complete\n",
      "43.8% complete\n",
      "44.5% complete\n",
      "45.300000000000004% complete\n",
      "46.1% complete\n",
      "46.800000000000004% complete\n",
      "47.599999999999994% complete\n",
      "48.4% complete\n",
      "49.1% complete\n",
      "49.9% complete\n",
      "50.7% complete\n",
      "51.4% complete\n",
      "52.2% complete\n",
      "53.0% complete\n",
      "53.7% complete\n",
      "54.50000000000001% complete\n",
      "55.300000000000004% complete\n",
      "56.00000000000001% complete\n",
      "56.8% complete\n",
      "57.599999999999994% complete\n",
      "58.3% complete\n",
      "59.099999999999994% complete\n",
      "59.9% complete\n",
      "60.6% complete\n",
      "61.4% complete\n",
      "62.2% complete\n",
      "62.9% complete\n",
      "63.7% complete\n",
      "64.5% complete\n",
      "65.2% complete\n",
      "66.0% complete\n",
      "66.8% complete\n",
      "67.60000000000001% complete\n",
      "68.30000000000001% complete\n",
      "69.1% complete\n",
      "69.89999999999999% complete\n",
      "70.6% complete\n",
      "71.39999999999999% complete\n",
      "72.2% complete\n",
      "72.89999999999999% complete\n",
      "73.7% complete\n",
      "74.5% complete\n",
      "75.2% complete\n",
      "76.0% complete\n",
      "76.8% complete\n",
      "77.5% complete\n",
      "78.3% complete\n",
      "79.10000000000001% complete\n",
      "79.80000000000001% complete\n",
      "80.60000000000001% complete\n",
      "81.39999999999999% complete\n",
      "82.1% complete\n",
      "82.89999999999999% complete\n",
      "83.7% complete\n",
      "84.39999999999999% complete\n",
      "85.2% complete\n",
      "86.0% complete\n",
      "86.7% complete\n",
      "87.5% complete\n",
      "88.3% complete\n",
      "89.0% complete\n",
      "89.8% complete\n",
      "90.60000000000001% complete\n",
      "91.3% complete\n",
      "92.10000000000001% complete\n",
      "92.9% complete\n",
      "93.7% complete\n",
      "94.39999999999999% complete\n",
      "95.19999999999999% complete\n",
      "96.0% complete\n",
      "96.7% complete\n",
      "97.5% complete\n",
      "98.3% complete\n",
      "99.0% complete\n",
      "99.8% complete\n",
      "time: 1h 45min 9s\n"
     ]
    }
   ],
   "source": [
    "num_setups = len(sklearn_setup_ids)\n",
    "counter = 0\n",
    "sklearn_setup_descriptions = {}\n",
    "for setup_id in sklearn_setup_ids:\n",
    "    counter += 1\n",
    "    if counter % 100 == 0:\n",
    "        print(\"{}% complete\".format(round(counter/num_setups,3)*100))\n",
    "    setup_description = get(\"https://www.openml.org/api/v1/json/setup/\" + str(setup_id) + \"?api_key=\" + api_key).json()\n",
    "    sklearn_setup_descriptions[setup_id] = setup_description"
   ]
  },
  {
   "cell_type": "code",
   "execution_count": 155,
   "metadata": {},
   "outputs": [
    {
     "name": "stdout",
     "output_type": "stream",
     "text": [
      "time: 14.5 s\n"
     ]
    }
   ],
   "source": [
    "with open('sklearn_setup_descriptions.json', 'w') as outfile:\n",
    "    json.dump(sklearn_setup_descriptions, outfile)"
   ]
  },
  {
   "cell_type": "code",
   "execution_count": 143,
   "metadata": {},
   "outputs": [
    {
     "name": "stdout",
     "output_type": "stream",
     "text": [
      "time: 4.6 ms\n"
     ]
    }
   ],
   "source": [
    "sklearn_data_set_ids = []\n",
    "for task_id,task_description in sklearn_task_descriptions.items():\n",
    "    data_set_id = task_description['task']['input'][0]['data_set']['data_set_id']\n",
    "    sklearn_data_set_ids.append(data_set_id)"
   ]
  },
  {
   "cell_type": "code",
   "execution_count": 146,
   "metadata": {
    "collapsed": true
   },
   "outputs": [
    {
     "name": "stdout",
     "output_type": "stream",
     "text": [
      "1.4000000000000001% complete\n",
      "2.8000000000000003% complete\n",
      "4.3% complete\n",
      "5.7% complete\n",
      "7.1% complete\n",
      "8.5% complete\n",
      "9.9% complete\n",
      "11.4% complete\n",
      "12.8% complete\n",
      "14.2% complete\n",
      "15.6% complete\n",
      "17.0% complete\n",
      "18.5% complete\n",
      "19.900000000000002% complete\n",
      "21.3% complete\n",
      "22.7% complete\n",
      "24.099999999999998% complete\n",
      "25.6% complete\n",
      "27.0% complete\n",
      "28.4% complete\n",
      "29.799999999999997% complete\n",
      "31.2% complete\n",
      "32.7% complete\n",
      "34.1% complete\n",
      "35.5% complete\n",
      "36.9% complete\n",
      "38.4% complete\n",
      "39.800000000000004% complete\n",
      "41.199999999999996% complete\n",
      "42.6% complete\n",
      "44.0% complete\n",
      "45.5% complete\n",
      "46.9% complete\n",
      "48.3% complete\n",
      "49.7% complete\n",
      "51.1% complete\n",
      "52.6% complete\n",
      "54.0% complete\n",
      "55.400000000000006% complete\n",
      "56.8% complete\n",
      "58.199999999999996% complete\n",
      "59.699999999999996% complete\n",
      "61.1% complete\n",
      "62.5% complete\n",
      "63.9% complete\n",
      "65.3% complete\n",
      "66.8% complete\n",
      "68.2% complete\n",
      "69.6% complete\n",
      "71.0% complete\n",
      "72.39999999999999% complete\n",
      "73.9% complete\n",
      "75.3% complete\n",
      "76.7% complete\n",
      "78.10000000000001% complete\n",
      "79.5% complete\n",
      "81.0% complete\n",
      "82.39999999999999% complete\n",
      "83.8% complete\n",
      "85.2% complete\n",
      "86.6% complete\n",
      "88.1% complete\n",
      "89.5% complete\n",
      "90.9% complete\n",
      "92.30000000000001% complete\n",
      "93.8% complete\n",
      "95.19999999999999% complete\n",
      "96.6% complete\n",
      "98.0% complete\n",
      "99.4% complete\n",
      "time: 5min 42s\n"
     ]
    }
   ],
   "source": [
    "num_data_sets = len(sklearn_data_set_ids)\n",
    "counter = 0\n",
    "sklearn_data_set_descriptions = {}\n",
    "for data_set_id in sklearn_data_set_ids:\n",
    "    counter += 1\n",
    "    if counter % 10 == 0:\n",
    "        print(\"{}% complete\".format(round(counter/num_data_sets,3)*100))\n",
    "    data_set_description = get(\"https://www.openml.org/api/v1/json/data/\" + str(data_set_id) + \"?api_key=\" + api_key).json()\n",
    "    sklearn_data_set_descriptions[data_set_id] = data_set_description"
   ]
  },
  {
   "cell_type": "code",
   "execution_count": 147,
   "metadata": {},
   "outputs": [
    {
     "name": "stdout",
     "output_type": "stream",
     "text": [
      "time: 79.1 ms\n"
     ]
    }
   ],
   "source": [
    "with open('sklearn_data_set_descriptions.json', 'w') as outfile:\n",
    "    json.dump(sklearn_data_set_descriptions, outfile)"
   ]
  },
  {
   "cell_type": "code",
   "execution_count": 20,
   "metadata": {
    "collapsed": true
   },
   "outputs": [
    {
     "name": "stdout",
     "output_type": "stream",
     "text": [
      "0.5% complete\n",
      "1.0% complete\n",
      "1.6% complete\n",
      "2.1% complete\n",
      "2.6% complete\n",
      "3.1% complete\n",
      "3.6999999999999997% complete\n",
      "4.2% complete\n",
      "4.7% complete\n",
      "5.2% complete\n",
      "5.800000000000001% complete\n",
      "6.3% complete\n",
      "6.800000000000001% complete\n",
      "7.3% complete\n",
      "7.9% complete\n",
      "8.4% complete\n",
      "8.9% complete\n",
      "9.4% complete\n",
      "10.0% complete\n",
      "10.5% complete\n",
      "11.0% complete\n",
      "11.5% complete\n",
      "12.1% complete\n",
      "12.6% complete\n",
      "13.100000000000001% complete\n",
      "13.600000000000001% complete\n",
      "14.2% complete\n",
      "14.7% complete\n",
      "15.2% complete\n",
      "15.7% complete\n",
      "16.3% complete\n",
      "16.8% complete\n",
      "17.299999999999997% complete\n",
      "17.8% complete\n",
      "18.4% complete\n",
      "18.9% complete\n",
      "19.400000000000002% complete\n",
      "19.900000000000002% complete\n",
      "20.5% complete\n",
      "21.0% complete\n",
      "21.5% complete\n",
      "22.0% complete\n",
      "22.6% complete\n",
      "23.1% complete\n",
      "23.599999999999998% complete\n",
      "24.099999999999998% complete\n",
      "24.7% complete\n",
      "25.2% complete\n",
      "25.7% complete\n",
      "26.200000000000003% complete\n",
      "26.8% complete\n",
      "27.3% complete\n",
      "27.800000000000004% complete\n",
      "28.299999999999997% complete\n",
      "28.9% complete\n",
      "29.4% complete\n",
      "29.9% complete\n",
      "30.4% complete\n",
      "31.0% complete\n",
      "31.5% complete\n",
      "32.0% complete\n",
      "32.5% complete\n",
      "33.1% complete\n",
      "33.6% complete\n",
      "34.1% complete\n",
      "34.599999999999994% complete\n",
      "35.199999999999996% complete\n",
      "35.699999999999996% complete\n",
      "36.199999999999996% complete\n",
      "36.7% complete\n",
      "37.3% complete\n",
      "37.8% complete\n",
      "38.3% complete\n",
      "38.800000000000004% complete\n",
      "39.4% complete\n",
      "39.900000000000006% complete\n",
      "40.400000000000006% complete\n",
      "40.9% complete\n",
      "41.5% complete\n",
      "42.0% complete\n",
      "42.5% complete\n",
      "43.0% complete\n",
      "43.6% complete\n",
      "44.1% complete\n",
      "44.6% complete\n",
      "45.1% complete\n",
      "45.7% complete\n",
      "46.2% complete\n",
      "46.7% complete\n",
      "47.199999999999996% complete\n",
      "47.8% complete\n",
      "48.3% complete\n",
      "48.8% complete\n",
      "49.3% complete\n",
      "49.9% complete\n",
      "50.4% complete\n",
      "50.9% complete\n",
      "51.4% complete\n",
      "52.0% complete\n",
      "52.5% complete\n",
      "53.0% complete\n",
      "53.5% complete\n",
      "54.1% complete\n",
      "54.6% complete\n",
      "55.1% complete\n",
      "55.60000000000001% complete\n",
      "56.2% complete\n",
      "56.699999999999996% complete\n",
      "57.199999999999996% complete\n",
      "57.699999999999996% complete\n",
      "58.3% complete\n",
      "58.8% complete\n",
      "59.3% complete\n",
      "59.8% complete\n",
      "60.4% complete\n",
      "60.9% complete\n",
      "61.4% complete\n",
      "61.9% complete\n",
      "62.5% complete\n",
      "63.0% complete\n",
      "63.5% complete\n",
      "64.0% complete\n",
      "64.60000000000001% complete\n",
      "65.10000000000001% complete\n",
      "65.60000000000001% complete\n",
      "66.10000000000001% complete\n",
      "66.7% complete\n",
      "67.2% complete\n",
      "67.7% complete\n",
      "68.2% complete\n",
      "68.8% complete\n",
      "69.3% complete\n",
      "69.8% complete\n",
      "70.3% complete\n",
      "70.89999999999999% complete\n",
      "71.39999999999999% complete\n",
      "71.89999999999999% complete\n",
      "72.39999999999999% complete\n",
      "73.0% complete\n",
      "73.5% complete\n",
      "74.0% complete\n",
      "74.5% complete\n",
      "75.0% complete\n",
      "75.6% complete\n",
      "76.1% complete\n",
      "76.6% complete\n",
      "77.10000000000001% complete\n",
      "77.7% complete\n",
      "78.2% complete\n",
      "78.7% complete\n",
      "79.2% complete\n",
      "79.80000000000001% complete\n",
      "80.30000000000001% complete\n",
      "80.80000000000001% complete\n",
      "81.3% complete\n",
      "81.89999999999999% complete\n",
      "82.39999999999999% complete\n",
      "82.89999999999999% complete\n",
      "83.39999999999999% complete\n",
      "84.0% complete\n",
      "84.5% complete\n",
      "85.0% complete\n",
      "85.5% complete\n",
      "86.1% complete\n",
      "86.6% complete\n",
      "87.1% complete\n",
      "87.6% complete\n",
      "88.2% complete\n",
      "88.7% complete\n",
      "89.2% complete\n",
      "89.7% complete\n",
      "90.3% complete\n",
      "90.8% complete\n",
      "91.3% complete\n",
      "91.8% complete\n",
      "92.4% complete\n",
      "92.9% complete\n",
      "93.4% complete\n",
      "93.89999999999999% complete\n",
      "94.5% complete\n",
      "95.0% complete\n",
      "95.5% complete\n",
      "96.0% complete\n",
      "96.6% complete\n",
      "97.1% complete\n",
      "97.6% complete\n",
      "98.1% complete\n",
      "98.7% complete\n",
      "99.2% complete\n",
      "99.7% complete\n",
      "time: 2h 46min 21s\n"
     ]
    }
   ],
   "source": [
    "num_runs = 0\n",
    "for flow,runs in sklearn_runs_info.items():\n",
    "    for run in runs['runs']['run']:\n",
    "        num_runs += 1\n",
    "counter = 0\n",
    "sklearn_run_descriptions = {}\n",
    "for flow,runs in sklearn_runs_info.items():\n",
    "    for run in runs['runs']['run']:\n",
    "        counter += 1\n",
    "        if counter % 100 == 0:\n",
    "            print(\"{}% complete\".format(round(counter/num_runs,3)*100))\n",
    "        run_id = run['run_id']\n",
    "        run_description = get(\"https://www.openml.org/api/v1/json/run/\" + str(run_id) + \"?api_key=\" + api_key).json()\n",
    "        sklearn_run_descriptions[run_id] = run_description"
   ]
  },
  {
   "cell_type": "code",
   "execution_count": 21,
   "metadata": {},
   "outputs": [
    {
     "name": "stdout",
     "output_type": "stream",
     "text": [
      "time: 34.5 s\n"
     ]
    }
   ],
   "source": [
    "with open('sklearn_run_descriptions.json', 'w') as outfile:\n",
    "    json.dump(sklearn_run_descriptions, outfile)"
   ]
  },
  {
   "cell_type": "code",
   "execution_count": 85,
   "metadata": {
    "scrolled": true
   },
   "outputs": [
    {
     "name": "stdout",
     "output_type": "stream",
     "text": [
      "time: 65.2 ms\n"
     ]
    }
   ],
   "source": [
    "flows_per_run = {}\n",
    "for run_id,run_description in sklearn_run_descriptions.items():\n",
    "    flow_id = run_description['run']['flow_id']\n",
    "    flow_names = []\n",
    "    flow_description = sklearn_flow_descriptions[flow_id]['flow']\n",
    "    if 'component' in flow_description:\n",
    "        compnents = flow_description['component']\n",
    "        if type(compnents) == dict:\n",
    "            flow_names.append(compnents['flow']['class_name'])\n",
    "            flows_per_run[run_id] = flow_names\n",
    "        else:\n",
    "            for flow in flow_description['component']:\n",
    "                flow_names.append(flow['flow']['class_name'])\n",
    "            flows_per_run[run_id] = flow_names\n",
    "    else:\n",
    "        flows_per_run[run_id] = [flow_description['name']]"
   ]
  },
  {
   "cell_type": "code",
   "execution_count": 100,
   "metadata": {},
   "outputs": [
    {
     "name": "stdout",
     "output_type": "stream",
     "text": [
      "time: 149 ms\n"
     ]
    }
   ],
   "source": [
    "flow_names = {}\n",
    "for run,flows in flows_per_run.items():\n",
    "    for flow in flows:\n",
    "        if flow in flow_names:\n",
    "            flow_names[flow] += 1\n",
    "        else:\n",
    "            flow_names[flow] = 1"
   ]
  },
  {
   "cell_type": "code",
   "execution_count": 101,
   "metadata": {
    "scrolled": true
   },
   "outputs": [
    {
     "data": {
      "text/plain": [
       "{'__main__.LR': 5,\n",
       " '__main__.SecondGradientBoostingClassifier': 2,\n",
       " 'extra.dual_imputer.DualImputer': 43,\n",
       " 'helper.dual_imputer.DualImputer': 256,\n",
       " 'helper.nn.NeuralNetwork': 14,\n",
       " 'helper.partial.PT1': 1,\n",
       " 'helper.partial.PT2': 1,\n",
       " 'helper.partial.PT3': 1,\n",
       " 'lightgbm.sklearn.LGBMClassifier': 1,\n",
       " 'openml.utils.preprocessing.ConditionalImputer': 2,\n",
       " 'openmlstudy14.preprocessing.ConditionalImputer': 940,\n",
       " 'sklearn.decomposition.kernel_pca.KernelPCA': 64,\n",
       " 'sklearn.decomposition.pca.PCA': 1154,\n",
       " 'sklearn.ensemble.bagging.BaggingClassifier': 11,\n",
       " 'sklearn.ensemble.forest.ExtraTreesClassifier': 141,\n",
       " 'sklearn.ensemble.forest.RandomForestClassifier': 2978,\n",
       " 'sklearn.ensemble.gradient_boosting.GradientBoostingClassifier': 254,\n",
       " 'sklearn.ensemble.voting_classifier.VotingClassifier': 29,\n",
       " 'sklearn.ensemble.weight_boosting.AdaBoostClassifier': 34,\n",
       " 'sklearn.feature_selection.from_model.SelectFromModel': 16,\n",
       " 'sklearn.feature_selection.univariate_selection.GenericUnivariateSelect': 3,\n",
       " 'sklearn.feature_selection.univariate_selection.SelectKBest': 6,\n",
       " 'sklearn.feature_selection.univariate_selection.SelectPercentile': 1,\n",
       " 'sklearn.feature_selection.variance_threshold.VarianceThreshold': 968,\n",
       " 'sklearn.gaussian_process.gpc.GaussianProcessClassifier': 1,\n",
       " 'sklearn.kernel_approximation.Nystroem': 2,\n",
       " 'sklearn.linear_model.logistic.LogisticRegression': 109,\n",
       " 'sklearn.linear_model.perceptron.Perceptron': 1,\n",
       " 'sklearn.linear_model.stochastic_gradient.SGDClassifier': 26,\n",
       " 'sklearn.model_selection._search.GridSearchCV': 1,\n",
       " 'sklearn.naive_bayes.BernoulliNB': 13,\n",
       " 'sklearn.naive_bayes.GaussianNB': 173,\n",
       " 'sklearn.naive_bayes.MultinomialNB': 2,\n",
       " 'sklearn.neighbors.classification.KNeighborsClassifier': 202,\n",
       " 'sklearn.neural_network.multilayer_perceptron.MLPClassifier': 67,\n",
       " 'sklearn.pipeline.FeatureUnion': 3,\n",
       " 'sklearn.pipeline.Pipeline': 12410,\n",
       " 'sklearn.preprocessing.data.MinMaxScaler': 5,\n",
       " 'sklearn.preprocessing.data.OneHotEncoder': 1395,\n",
       " 'sklearn.preprocessing.data.PolynomialFeatures': 48,\n",
       " 'sklearn.preprocessing.data.RobustScaler': 7,\n",
       " 'sklearn.preprocessing.data.StandardScaler': 299,\n",
       " 'sklearn.preprocessing.imputation.Imputer': 1678,\n",
       " 'sklearn.svm.classes.LinearSVC': 1,\n",
       " 'sklearn.svm.classes.NuSVC': 29,\n",
       " 'sklearn.svm.classes.SVC': 1044,\n",
       " 'sklearn.tree.tree.DecisionTreeClassifier': 1131,\n",
       " 'sklearn.tree.tree.ExtraTreeClassifier': 397,\n",
       " 'xgboost.sklearn.XGBClassifier': 7}"
      ]
     },
     "execution_count": 101,
     "metadata": {},
     "output_type": "execute_result"
    },
    {
     "name": "stdout",
     "output_type": "stream",
     "text": [
      "time: 10.4 ms\n"
     ]
    }
   ],
   "source": [
    "flow_names"
   ]
  },
  {
   "cell_type": "code",
   "execution_count": 119,
   "metadata": {},
   "outputs": [
    {
     "data": {
      "text/plain": [
       "{'name': 'predictive_accuracy', 'value': '0.953333'}"
      ]
     },
     "execution_count": 119,
     "metadata": {},
     "output_type": "execute_result"
    },
    {
     "name": "stdout",
     "output_type": "stream",
     "text": [
      "time: 5.74 ms\n"
     ]
    }
   ],
   "source": [
    "run_description['run']['output_data']['evaluation'][9]"
   ]
  },
  {
   "cell_type": "code",
   "execution_count": 120,
   "metadata": {},
   "outputs": [
    {
     "name": "stdout",
     "output_type": "stream",
     "text": [
      "time: 1.29 s\n"
     ]
    }
   ],
   "source": [
    "flow_accuracies = {}\n",
    "for run_id, run_description in sklearn_run_descriptions.items():\n",
    "    for metric in run_description['run']['output_data']['evaluation']:\n",
    "        if metric['name'] == 'predictive_accuracy':\n",
    "            accuracy = metric['value']\n",
    "            for flow in flows_per_run[run_id]:\n",
    "                if flow in flow_accuracies:\n",
    "                    flow_accuracies[flow].append(accuracy)\n",
    "                else:\n",
    "                    flow_accuracies[flow] = [accuracy]\n",
    "            break"
   ]
  },
  {
   "cell_type": "code",
   "execution_count": 159,
   "metadata": {},
   "outputs": [
    {
     "name": "stdout",
     "output_type": "stream",
     "text": [
      "time: 123 ms\n"
     ]
    }
   ],
   "source": [
    "mean_flow_accuracies = pd.DataFrame(columns=['Name', 'Accuracy'])\n",
    "for flow,accuracies in flow_accuracies.items():\n",
    "    mean_flow_accuracies = mean_flow_accuracies.append(pd.DataFrame([[flow,np.asarray(accuracies).astype(np.float).mean()]], columns=['Name', 'Accuracy']))"
   ]
  },
  {
   "cell_type": "code",
   "execution_count": null,
   "metadata": {
    "collapsed": true
   },
   "outputs": [],
   "source": []
  },
  {
   "cell_type": "code",
   "execution_count": 29,
   "metadata": {},
   "outputs": [
    {
     "name": "stdout",
     "output_type": "stream",
     "text": [
      "time: 1.94 s\n"
     ]
    }
   ],
   "source": [
    "with open('flow_descriptions.json') as data_file:\n",
    "    flow_descriptions = json.load(data_file)"
   ]
  },
  {
   "cell_type": "code",
   "execution_count": null,
   "metadata": {
    "collapsed": true
   },
   "outputs": [],
   "source": []
  }
 ],
 "metadata": {
  "kernelspec": {
   "display_name": "Python 3",
   "language": "python",
   "name": "python3"
  },
  "language_info": {
   "codemirror_mode": {
    "name": "ipython",
    "version": 3
   },
   "file_extension": ".py",
   "mimetype": "text/x-python",
   "name": "python",
   "nbconvert_exporter": "python",
   "pygments_lexer": "ipython3",
   "version": "3.6.0"
  }
 },
 "nbformat": 4,
 "nbformat_minor": 2
}
